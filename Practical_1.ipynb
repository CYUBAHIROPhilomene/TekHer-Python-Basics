{
 "cells": [
  {
   "cell_type": "markdown",
   "id": "426486dd",
   "metadata": {},
   "source": [
    "# Practical_1: Variables and Assignments"
   ]
  },
  {
   "cell_type": "markdown",
   "id": "9fb19f0d",
   "metadata": {},
   "source": [
    "----\n",
    "\n",
    "### Exercise 1:\n",
    "Declare a variable `x` and assign it the value `10`.\n",
    "\n",
    "```python\n",
    "# Exercise 1\n",
    "```\n",
    "\n",
    "---\n",
    "\n",
    "### Exercise 2:\n",
    "Assign the value `True` to a variable called `is_valid`.\n",
    "\n",
    "```python\n",
    "# Exercise 2\n",
    "```\n",
    "\n",
    "---\n",
    "\n",
    "### Exercise 3:\n",
    "Create a string variable `name` with the value \"Python Programming\".\n",
    "\n",
    "```python\n",
    "# Exercise 3\n",
    "```\n",
    "\n",
    "---\n",
    "\n",
    "### Exercise 4:\n",
    "Assign the result of `5 + 3` to a variable `sum_result`.\n",
    "\n",
    "```python\n",
    "# Exercise 4\n",
    "```\n",
    "\n",
    "---\n",
    "\n",
    "### Exercise 5:\n",
    "Assign multiple variables in one line: `a = 5`, `b = 10`, `c = 15`.\n",
    "\n",
    "```python\n",
    "# Exercise 5\n",
    "```\n",
    "\n",
    "---\n",
    "\n",
    "### Exercise 6:\n",
    "Assign the value of one variable `x` to another variable `y`.\n",
    "\n",
    "```python\n",
    "# Exercise 6\n",
    "```\n",
    "\n",
    "---\n",
    "\n",
    "### Exercise 7:\n",
    "Assign a floating-point number `9.8` to a variable `gravity`.\n",
    "\n",
    "```python\n",
    "# Exercise 7\n",
    "```\n",
    "\n",
    "---\n",
    "\n",
    "### Exercise 8:\n",
    "Create a variable `country` and assign it the string value of your favorite country.\n",
    "\n",
    "```python\n",
    "# Exercise 8\n",
    "```\n",
    "\n",
    "---\n",
    "\n",
    "### Exercise 9:\n",
    "Change the value of variable `age` from `25` to `26` in two separate steps.\n",
    "\n",
    "```python\n",
    "# Exercise 9\n",
    "```\n",
    "\n",
    "---\n",
    "\n",
    "### Exercise 10:\n",
    "Use one variable to store the result of subtracting two numbers `20 - 7`.\n",
    "\n",
    "```python\n",
    "# Exercise 10\n",
    "```\n",
    "\n",
    "---\n",
    "\n",
    "### Exercise 11:\n",
    "Assign an integer value and a floating-point value to two different variables.\n",
    "\n",
    "```python\n",
    "# Exercise 11\n",
    "```\n",
    "\n",
    "---\n",
    "\n",
    "### Exercise 12:\n",
    "Assign a boolean value `False` to a variable `is_completed`.\n",
    "\n",
    "```python\n",
    "# Exercise 12\n",
    "```\n",
    "\n",
    "---\n",
    "\n",
    "### Exercise 13:\n",
    "Swap the values of two variables `x` and `y`.\n",
    "\n",
    "```python\n",
    "# Exercise 13\n",
    "```\n",
    "\n",
    "---\n",
    "\n",
    "### Exercise 14:\n",
    "Assign a complex number `3 + 4j` to a variable `complex_num`.\n",
    "\n",
    "```python\n",
    "# Exercise 14\n",
    "```\n",
    "\n",
    "---\n",
    "\n",
    "### Exercise 15:\n",
    "Reassign a variable from an integer to a string.\n",
    "\n",
    "```python\n",
    "# Exercise 15\n",
    "```\n",
    "\n",
    "---\n",
    "\n",
    "### Exercise 16:\n",
    "Create two variables `first_name` and `last_name`, and assign them your first and last names.\n",
    "\n",
    "```python\n",
    "# Exercise 16\n",
    "```\n",
    "\n",
    "---\n",
    "\n",
    "### Exercise 17:\n",
    "Create a variable `temperature` and assign it the value of `35.5`.\n",
    "\n",
    "```python\n",
    "# Exercise 17\n",
    "```\n",
    "\n",
    "---\n",
    "\n",
    "### Exercise 18:\n",
    "Assign the result of the multiplication of two numbers `8 * 6` to a variable `product`.\n",
    "\n",
    "```python\n",
    "# Exercise 18\n",
    "```\n",
    "\n",
    "---\n",
    "\n",
    "### Exercise 19:\n",
    "Assign a sentence of your choice to a variable `sentence`.\n",
    "\n",
    "```python\n",
    "# Exercise 19\n",
    "```\n",
    "\n",
    "---\n",
    "\n",
    "### Exercise 20:\n",
    "Use an assignment to convert a string `'50'` into an integer variable `int_value`.\n",
    "\n",
    "```python\n",
    "# Exercise 20\n",
    "```\n",
    "\n",
    "---\n",
    "\n",
    "### Exercise 21:\n",
    "Assign the result of dividing `144` by `12` to a variable `quotient`.\n",
    "\n",
    "```python\n",
    "# Exercise 21\n",
    "```\n",
    "\n",
    "---\n",
    "\n",
    "### Exercise 22:\n",
    "Assign the remainder of `47 divided by 5` to a variable `remainder`.\n",
    "\n",
    "```python\n",
    "# Exercise 22\n",
    "```\n",
    "\n",
    "---\n",
    "\n",
    "### Exercise 23:\n",
    "Create a variable `is_student` and assign it the value `True`.\n",
    "\n",
    "```python\n",
    "# Exercise 23\n",
    "```\n",
    "\n",
    "---\n",
    "\n",
    "### Exercise 24:\n",
    "Use a variable to store the result of a modulo operation: `45 % 4`.\n",
    "\n",
    "```python\n",
    "# Exercise 24\n",
    "```\n",
    "\n",
    "---\n",
    "\n",
    "### Exercise 25:\n",
    "Create a variable `pi` and assign it the value `3.14159`.\n",
    "\n",
    "```python\n",
    "# Exercise 25\n",
    "```\n",
    "\n",
    "---\n",
    "\n",
    "### Exercise 26:\n",
    "Create two variables `length` and `width`, assign them values, and calculate the area of a rectangle.\n",
    "\n",
    "```python\n",
    "# Exercise 26\n",
    "```\n",
    "\n",
    "---\n",
    "\n",
    "### Exercise 27:\n",
    "Assign a negative number to a variable `negative_value`.\n",
    "\n",
    "```python\n",
    "# Exercise 27\n",
    "```\n",
    "\n",
    "---\n",
    "\n",
    "### Exercise 28:\n",
    "Assign a string containing a special character (e.g., \"Hello, World!\") to a variable `greeting`.\n",
    "\n",
    "```python\n",
    "# Exercise 28\n",
    "```\n",
    "\n",
    "---\n",
    "\n",
    "### Exercise 29:\n",
    "Create a variable `population` and assign it a large integer value (in billions).\n",
    "\n",
    "```python\n",
    "# Exercise 29\n",
    "```\n",
    "\n",
    "---\n",
    "\n",
    "### Exercise 30:\n",
    "Use a variable to store the result of raising `2` to the power of `8`.\n",
    "\n",
    "```python\n",
    "# Exercise 30\n",
    "```\n",
    "\n",
    "---\n",
    "\n",
    "### Exercise 31:\n",
    "Assign a list of your favorite fruits to a variable `fruits`.\n",
    "\n",
    "```python\n",
    "# Exercise 31\n",
    "```\n",
    "\n",
    "---\n",
    "\n",
    "### Exercise 32:\n",
    "Assign a tuple of three numbers to a variable `coordinates`.\n",
    "\n",
    "```python\n",
    "# Exercise 32\n",
    "```\n",
    "\n",
    "---\n",
    "\n",
    "### Exercise 33:\n",
    "Assign a dictionary with keys `name` and `age` to a variable `person`.\n",
    "\n",
    "```python\n",
    "# Exercise 33\n",
    "```\n",
    "\n",
    "---\n",
    "\n",
    "### Exercise 34:\n",
    "Use variables to store the sum of two floating-point numbers.\n",
    "\n",
    "```python\n",
    "# Exercise 34\n",
    "```\n",
    "\n",
    "---\n",
    "\n",
    "### Exercise 35:\n",
    "Create a variable `is_sunny` and assign it the result of a comparison `10 > 5`.\n",
    "\n",
    "```python\n",
    "# Exercise 35\n",
    "```\n",
    "\n",
    "---\n",
    "\n",
    "### Exercise 36:\n",
    "Assign a string and an integer to two different variables, then print both on one line.\n",
    "\n",
    "```python\n",
    "# Exercise 36\n",
    "```\n",
    "\n",
    "---\n",
    "\n",
    "### Exercise 37:\n",
    "Reassign a variable that originally held a number to a boolean value.\n",
    "\n",
    "```python\n",
    "# Exercise 37\n",
    "```\n",
    "\n",
    "---\n",
    "\n",
    "### Exercise 38:\n",
    "Create a variable `is_weekend` and assign it the result of `False`.\n",
    "\n",
    "```python\n",
    "# Exercise 38\n",
    "```\n",
    "\n",
    "---\n",
    "\n",
    "### Exercise 39:\n",
    "Assign a multi-line string to a variable `description`.\n",
    "\n",
    "```python\n",
    "# Exercise 39\n",
    "```\n",
    "\n",
    "---\n",
    "\n",
    "### Exercise 40:\n",
    "Use variables to store the result of the absolute value of `-25`.\n",
    "\n",
    "```python\n",
    "# Exercise 40\n",
    "```\n",
    "\n",
    "---\n",
    "\n",
    "### Exercise 41:\n",
    "Assign the result of a floor division `100 // 6` to a variable `floor_div_result`.\n",
    "\n",
    "```python\n",
    "# Exercise 41\n",
    "```\n",
    "\n",
    "---\n",
    "\n",
    "### Exercise 42:\n",
    "Assign the result of adding a floating-point number to an integer to a variable `mixed_sum`.\n",
    "\n",
    "```python\n",
    "# Exercise 42\n",
    "```\n",
    "\n",
    "---\n",
    "\n",
    "### Exercise 43:\n",
    "Use variables to store a combination of string concatenation.\n",
    "\n",
    "```python\n",
    "# Exercise 43\n",
    "```\n",
    "\n",
    "---\n",
    "\n",
    "### Exercise 44:\n",
    "Assign an empty list to a variable `empty_list`.\n",
    "\n",
    "```python\n",
    "# Exercise 44\n",
    "```\n",
    "\n",
    "---\n",
    "\n",
    "### Exercise 45:\n",
    "Assign a boolean value based on the comparison of two variables `a = 10` and `b = 15`.\n",
    "\n",
    "```python\n",
    "# Exercise 45\n",
    "```\n",
    "\n",
    "---\n",
    "\n",
    "### Exercise 46:\n",
    "Assign a long sentence to a variable and count its characters using `len()`.\n",
    "\n",
    "```python\n",
    "# Exercise 46\n",
    "```\n",
    "\n",
    "---\n",
    "\n",
    "### Exercise 47:\n",
    "Assign a fractional result `7 / 3` to a variable `division_result`.\n",
    "\n",
    "```python\n",
    "# Exercise 47\n",
    "```\n",
    "\n",
    "---\n",
    "\n",
    "### Exercise 48:\n",
    "Create a variable `speed` and assign it the value of 100 kilometers per hour.\n",
    "\n",
    "```python\n",
    "# Exercise 48\n",
    "```\n",
    "\n",
    "---\n",
    "\n",
    "### Exercise 49:\n",
    "Assign a multi-variable equation like `y = 3x + 5` where `x = 4` to a variable `y`.\n",
    "\n",
    "```python\n",
    "# Exercise 49\n",
    "```\n",
    "\n",
    "---\n",
    "\n",
    "### Exercise 50:\n",
    "Use variables to calculate and store the average of three numbers.\n",
    "\n",
    "```python\n",
    "# Exercise 50\n",
    "```\n",
    "\n",
    "****"
   ]
  },
  {
   "cell_type": "markdown",
   "id": "2509ea2c-bafa-41cd-9a06-808786cead11",
   "metadata": {},
   "source": [
    "#  Exercise 1"
   ]
  },
  {
   "cell_type": "code",
   "execution_count": 1,
   "id": "6fa06eae-bb0d-4151-98b1-43744011bbbe",
   "metadata": {},
   "outputs": [],
   "source": [
    "x = 10"
   ]
  },
  {
   "cell_type": "markdown",
   "id": "9fc2e2ef-54c2-4850-a529-e028b3b67c49",
   "metadata": {},
   "source": [
    "# Exercise 2"
   ]
  },
  {
   "cell_type": "code",
   "execution_count": 3,
   "id": "c9628aa5-c078-4fbc-8941-7288b9edd9a2",
   "metadata": {},
   "outputs": [],
   "source": [
    "is_valid = True"
   ]
  },
  {
   "cell_type": "markdown",
   "id": "cedbb827-daab-468b-9a49-c4c69c488d69",
   "metadata": {},
   "source": [
    "# Exercise 3"
   ]
  },
  {
   "cell_type": "code",
   "execution_count": 4,
   "id": "94229193-8c50-4722-9c2c-7df786fc767c",
   "metadata": {},
   "outputs": [],
   "source": [
    "name = \"Python Programming\""
   ]
  },
  {
   "cell_type": "markdown",
   "id": "40e6a339-add6-4a01-8284-3c74bc075f11",
   "metadata": {},
   "source": [
    "# Exercise 4"
   ]
  },
  {
   "cell_type": "code",
   "execution_count": null,
   "id": "1ea9a983-db18-4617-a4cf-eea4d1236ee9",
   "metadata": {},
   "outputs": [],
   "source": [
    "sum_result = 5 + 3"
   ]
  },
  {
   "cell_type": "markdown",
   "id": "6879ab49-355d-4af4-ac1a-ef41864610ed",
   "metadata": {},
   "source": [
    "# Exercise 5"
   ]
  },
  {
   "cell_type": "code",
   "execution_count": 5,
   "id": "25a459e2-8eb9-4dee-8f2c-d177f826944d",
   "metadata": {},
   "outputs": [],
   "source": [
    "a, b, c= 5, 10, 15"
   ]
  },
  {
   "cell_type": "markdown",
   "id": "151c7ee4-0c60-4397-9bdb-e27dce7c7a1c",
   "metadata": {},
   "source": [
    "# Exercise 6"
   ]
  },
  {
   "cell_type": "code",
   "execution_count": 7,
   "id": "9a5a4829-f4c5-421a-85ce-4c254dc59599",
   "metadata": {},
   "outputs": [],
   "source": [
    "y = x"
   ]
  },
  {
   "cell_type": "markdown",
   "id": "d8958a00-2408-4346-88ac-95502cda4c91",
   "metadata": {},
   "source": [
    "# Exercise 7"
   ]
  },
  {
   "cell_type": "code",
   "execution_count": 8,
   "id": "92c799ee-860c-4d8d-b86a-d7f198faeaf0",
   "metadata": {},
   "outputs": [],
   "source": [
    "gravity = 9.8"
   ]
  },
  {
   "cell_type": "markdown",
   "id": "6fce1bc7-5161-47bb-85c8-e85fc76c164b",
   "metadata": {},
   "source": [
    "# Exercise 8"
   ]
  },
  {
   "cell_type": "code",
   "execution_count": 9,
   "id": "80d9f731-60f2-4aed-8c13-57d8e2fd101f",
   "metadata": {},
   "outputs": [],
   "source": [
    "country = \"Rwanda\""
   ]
  },
  {
   "cell_type": "markdown",
   "id": "8f462fe5-17f8-42b9-a47a-eb56c4f19342",
   "metadata": {},
   "source": [
    "# Exercise 9"
   ]
  },
  {
   "cell_type": "code",
   "execution_count": 13,
   "id": "975226cd-61f1-4929-abef-31a8cac62c4a",
   "metadata": {},
   "outputs": [],
   "source": [
    "Age = 25\n",
    "Age = 26"
   ]
  },
  {
   "cell_type": "markdown",
   "id": "42b208f4-d233-46fc-9be3-e8f213c53640",
   "metadata": {},
   "source": [
    "# Exercise 10"
   ]
  },
  {
   "cell_type": "code",
   "execution_count": 16,
   "id": "bf986c22-bc0b-476e-b7fa-9de515d5095b",
   "metadata": {},
   "outputs": [],
   "source": [
    "z = 20 - 7"
   ]
  },
  {
   "cell_type": "markdown",
   "id": "28a542a9-da87-4cc6-8430-1ec591c951f0",
   "metadata": {},
   "source": [
    "# Exercise 11"
   ]
  },
  {
   "cell_type": "code",
   "execution_count": 18,
   "id": "02be1329-378a-4f7c-80f1-0e52de4d9308",
   "metadata": {},
   "outputs": [],
   "source": [
    "i = 3\n",
    "j = 4.5"
   ]
  },
  {
   "cell_type": "markdown",
   "id": "b347a77b-5299-4fc8-a0e2-857e9e70fb86",
   "metadata": {},
   "source": [
    "# Exercise 12"
   ]
  },
  {
   "cell_type": "code",
   "execution_count": 20,
   "id": "7a79bc9d-e8c7-4358-832c-661088912f40",
   "metadata": {},
   "outputs": [],
   "source": [
    "is_completed = False"
   ]
  },
  {
   "cell_type": "markdown",
   "id": "4d2783a3-6382-4bc3-a2b7-8d2c1331f505",
   "metadata": {},
   "source": [
    "# Exercise 13"
   ]
  },
  {
   "cell_type": "code",
   "execution_count": 23,
   "id": "1ba69f76-8f31-4a75-a225-a88c2d3bd7f3",
   "metadata": {},
   "outputs": [
    {
     "name": "stdout",
     "output_type": "stream",
     "text": [
      "15 14\n"
     ]
    }
   ],
   "source": [
    "x, y = 14, 15\n",
    "x = x + y \n",
    "y = x - y\n",
    "x = x - y\n",
    "print(x,y)"
   ]
  },
  {
   "cell_type": "markdown",
   "id": "4bb2da69-8bc9-41de-b0c2-a004c04e5a5f",
   "metadata": {},
   "source": [
    "# Exercise 14"
   ]
  },
  {
   "cell_type": "code",
   "execution_count": 25,
   "id": "c24e9d0a-8d46-408e-b091-b81c90a874b1",
   "metadata": {},
   "outputs": [],
   "source": [
    "complex_num = 3 + 4j"
   ]
  },
  {
   "cell_type": "markdown",
   "id": "f960fb26-d247-4100-afb4-2bbfbcf82c0f",
   "metadata": {},
   "source": [
    "# Exercise 15"
   ]
  },
  {
   "cell_type": "code",
   "execution_count": 27,
   "id": "f0ba7563-1868-4f08-85b5-b9dc32d4b87d",
   "metadata": {},
   "outputs": [],
   "source": [
    "m = 15\n",
    "m = str(m)"
   ]
  },
  {
   "cell_type": "markdown",
   "id": "fdd31451-47e7-4c2f-82a2-42cb41a087c1",
   "metadata": {},
   "source": [
    "# Exercise 16"
   ]
  },
  {
   "cell_type": "code",
   "execution_count": 28,
   "id": "5bd88269-bfce-46fc-856b-653088af1ca1",
   "metadata": {},
   "outputs": [],
   "source": [
    "first_name = 'Philomene'\n",
    "last_name = 'CYUBAHIRO'"
   ]
  },
  {
   "cell_type": "markdown",
   "id": "b8b56be2-2a4a-46a8-a3f8-d4fb9cb335b7",
   "metadata": {},
   "source": [
    "# Exercise 17"
   ]
  },
  {
   "cell_type": "code",
   "execution_count": 29,
   "id": "c6102856-9ee8-47cc-ba06-2d9a167d4b1b",
   "metadata": {},
   "outputs": [],
   "source": [
    "temperature = 35.5"
   ]
  },
  {
   "cell_type": "markdown",
   "id": "cd090e5a-c3b7-4485-b5e6-32ef1c2968bb",
   "metadata": {},
   "source": [
    "# Exercise 18"
   ]
  },
  {
   "cell_type": "code",
   "execution_count": 30,
   "id": "95b8842b-b64b-4a53-8920-30384b0b270e",
   "metadata": {},
   "outputs": [],
   "source": [
    "product = 8 * 6"
   ]
  },
  {
   "cell_type": "markdown",
   "id": "8fede446-e117-4695-b4c3-69139caa6dfd",
   "metadata": {},
   "source": [
    "# Exercise 19"
   ]
  },
  {
   "cell_type": "code",
   "execution_count": 31,
   "id": "1e95b947-8096-4883-b6b1-e1b9e40e208c",
   "metadata": {},
   "outputs": [],
   "source": [
    "sentence = \"I love coding\""
   ]
  },
  {
   "cell_type": "markdown",
   "id": "e2995424-437a-4e03-83e8-2ff7530d68e8",
   "metadata": {},
   "source": [
    "# Exercise 20"
   ]
  },
  {
   "cell_type": "code",
   "execution_count": 32,
   "id": "aa47fc19-ef0a-45cd-8202-93d78644b043",
   "metadata": {},
   "outputs": [],
   "source": [
    "int_value = int('50')"
   ]
  },
  {
   "cell_type": "markdown",
   "id": "17c25f6f-1245-4332-8303-2671574f40d9",
   "metadata": {},
   "source": [
    "# Exercise 21"
   ]
  },
  {
   "cell_type": "code",
   "execution_count": 34,
   "id": "eb4efc76-04f9-46b3-9ad0-84b4a85d67d6",
   "metadata": {},
   "outputs": [],
   "source": [
    "quotient = 144 / 12 "
   ]
  },
  {
   "cell_type": "markdown",
   "id": "6e68dec2-3fda-49d9-a46d-99dd5f4a638f",
   "metadata": {},
   "source": [
    "# Exercise 22"
   ]
  },
  {
   "cell_type": "code",
   "execution_count": 35,
   "id": "5ef0f3bf-2b6c-4dc1-974a-ca5ba3d80637",
   "metadata": {},
   "outputs": [],
   "source": [
    "remainder = 47 % 5"
   ]
  },
  {
   "cell_type": "markdown",
   "id": "8cd9c2aa-27b6-4a69-bb5d-a499bd3f1556",
   "metadata": {},
   "source": [
    "# Exercise 23"
   ]
  },
  {
   "cell_type": "code",
   "execution_count": 36,
   "id": "cff2d520-0f65-4cae-82a6-97cad2571c4c",
   "metadata": {},
   "outputs": [],
   "source": [
    "is_student = True"
   ]
  },
  {
   "cell_type": "markdown",
   "id": "c8d1d3ef-1c02-4bdc-be6b-990f85bea2fd",
   "metadata": {},
   "source": [
    "# Exercise 24"
   ]
  },
  {
   "cell_type": "code",
   "execution_count": 37,
   "id": "dbb50a1b-ddde-4be5-8b07-6099ed7c71f2",
   "metadata": {},
   "outputs": [],
   "source": [
    "modulos = 45 % 4"
   ]
  },
  {
   "cell_type": "markdown",
   "id": "b1a34992-705d-4ba5-b73b-f5089f9ea7c5",
   "metadata": {},
   "source": [
    "# Exercise 25"
   ]
  },
  {
   "cell_type": "code",
   "execution_count": 38,
   "id": "01a5b5c2-0e66-4e57-a6d7-1de1d1010967",
   "metadata": {},
   "outputs": [],
   "source": [
    "pi = 3.14159"
   ]
  },
  {
   "cell_type": "markdown",
   "id": "d0b4ac82-d708-4c24-afea-ca2dd2fdfa7b",
   "metadata": {},
   "source": [
    "# Exercise 26"
   ]
  },
  {
   "cell_type": "code",
   "execution_count": 39,
   "id": "b64d1694-3f9c-4598-9d52-08f384af3e41",
   "metadata": {},
   "outputs": [],
   "source": [
    "length = 8\n",
    "width =  6\n",
    "A = length * width"
   ]
  },
  {
   "cell_type": "markdown",
   "id": "e7700915-a3c5-400e-8530-57a504e5496d",
   "metadata": {},
   "source": [
    "# Exercise 27"
   ]
  },
  {
   "cell_type": "code",
   "execution_count": null,
   "id": "85162cb0-ea5d-4609-9d8c-fcbe1a5b10f4",
   "metadata": {},
   "outputs": [],
   "source": [
    "negative_value = -45"
   ]
  },
  {
   "cell_type": "markdown",
   "id": "574d2c29-0c58-41cf-8cba-f877de0bfc9c",
   "metadata": {},
   "source": [
    "# Exercise 28"
   ]
  },
  {
   "cell_type": "code",
   "execution_count": 42,
   "id": "9efb568f-5581-42e5-95a7-1dd65dc7e034",
   "metadata": {},
   "outputs": [],
   "source": [
    "greetings = \"Hello, World!\""
   ]
  },
  {
   "cell_type": "markdown",
   "id": "549ff96e-d9a2-4b84-9f41-296b5b21c470",
   "metadata": {},
   "source": [
    "# Exercise 29"
   ]
  },
  {
   "cell_type": "code",
   "execution_count": null,
   "id": "31f857d8-df6d-4adb-9156-f897cc5fe035",
   "metadata": {},
   "outputs": [],
   "source": [
    "population = 1,234,567,000"
   ]
  },
  {
   "cell_type": "markdown",
   "id": "704cd31e-8a5b-4c18-a072-58ccdf76a87a",
   "metadata": {},
   "source": [
    "# Exercise 30"
   ]
  },
  {
   "cell_type": "code",
   "execution_count": 43,
   "id": "35b4f156-45ce-4531-a28c-5fd183797c92",
   "metadata": {},
   "outputs": [],
   "source": [
    "p = 2**8"
   ]
  },
  {
   "cell_type": "markdown",
   "id": "db2d6215-7892-4f71-8781-e3e868217ec2",
   "metadata": {},
   "source": [
    "# Exercise 31"
   ]
  },
  {
   "cell_type": "code",
   "execution_count": 56,
   "id": "72142f2b-cbf9-4d70-93de-a6dd428d1af7",
   "metadata": {},
   "outputs": [],
   "source": [
    "fruits = ['Apple', 'Pineapple', 'Mango', 'Banana']"
   ]
  },
  {
   "cell_type": "markdown",
   "id": "a64f854b-ad3a-4ec8-9c22-49ef462166e1",
   "metadata": {},
   "source": [
    "# Exercise 32"
   ]
  },
  {
   "cell_type": "code",
   "execution_count": 45,
   "id": "b7ed0ef3-1d44-4cae-a7a5-4ca1f3e69b2b",
   "metadata": {},
   "outputs": [],
   "source": [
    "coordinates = (35.4, 38.6, 21.7)"
   ]
  },
  {
   "cell_type": "markdown",
   "id": "f0f3d7c3-4194-4c32-906a-317e6370f036",
   "metadata": {},
   "source": [
    "# Exercise 33"
   ]
  },
  {
   "cell_type": "code",
   "execution_count": 46,
   "id": "c24f4eda-c99b-4bd3-bc64-f56cd4f2d129",
   "metadata": {},
   "outputs": [],
   "source": [
    "person = {'Name': 'Philo', 'Age': 30}"
   ]
  },
  {
   "cell_type": "markdown",
   "id": "cdfb4d0a-e328-43d6-a496-6ec52aba2059",
   "metadata": {},
   "source": [
    "# Exercise 34"
   ]
  },
  {
   "cell_type": "code",
   "execution_count": 47,
   "id": "cc3ba181-619a-4685-a1e8-4c52988c1288",
   "metadata": {},
   "outputs": [],
   "source": [
    "p = 3.4\n",
    "q = 1.5\n",
    "sum = p + q"
   ]
  },
  {
   "cell_type": "markdown",
   "id": "823e70cf-fe5c-4a43-9669-e786fe6da864",
   "metadata": {},
   "source": [
    "# Exercise 35"
   ]
  },
  {
   "cell_type": "code",
   "execution_count": 48,
   "id": "49fdd492-2154-4234-ac00-6ed1d5163de1",
   "metadata": {},
   "outputs": [],
   "source": [
    "is_sunny = 10 > 5"
   ]
  },
  {
   "cell_type": "markdown",
   "id": "03f89303-75bb-4973-9868-7b26d96bf189",
   "metadata": {},
   "source": [
    "# Exercise 36"
   ]
  },
  {
   "cell_type": "code",
   "execution_count": 49,
   "id": "7ec55ddb-c2ea-4267-95fe-b3e3090f6de8",
   "metadata": {},
   "outputs": [
    {
     "name": "stdout",
     "output_type": "stream",
     "text": [
      "My age is  30\n"
     ]
    }
   ],
   "source": [
    "str = 'My age is '\n",
    "Age = 30\n",
    "print (str, Age)"
   ]
  },
  {
   "cell_type": "markdown",
   "id": "37e0650e-2a78-4f58-970a-4bf4bf952ebb",
   "metadata": {},
   "source": [
    "# Exercise 37"
   ]
  },
  {
   "cell_type": "code",
   "execution_count": 50,
   "id": "0eb9b927-db4d-4194-8cc8-0a78f5dc8255",
   "metadata": {},
   "outputs": [],
   "source": [
    "v =20 \n",
    "v = False"
   ]
  },
  {
   "cell_type": "markdown",
   "id": "9f257ee0-01c0-4d0f-a765-d817d55d2521",
   "metadata": {},
   "source": [
    "# Exercise 38"
   ]
  },
  {
   "cell_type": "code",
   "execution_count": 51,
   "id": "db8904ee-abeb-407a-9604-5a9fb45b3a2f",
   "metadata": {},
   "outputs": [],
   "source": [
    "is_weekend = False"
   ]
  },
  {
   "cell_type": "markdown",
   "id": "5de835e8-053f-462b-b598-c707eed55d2e",
   "metadata": {},
   "source": [
    "# Exercise 39"
   ]
  },
  {
   "cell_type": "code",
   "execution_count": 54,
   "id": "27a2be00-0813-4975-a75a-67773faa686e",
   "metadata": {},
   "outputs": [],
   "source": [
    "description = \"\"\"I am a student\n",
    "in Tekher program\n",
    "at Klab.\n",
    "\"\"\"\n"
   ]
  },
  {
   "cell_type": "markdown",
   "id": "15277fc8-2a7b-4849-82c5-a56a1bc57a40",
   "metadata": {},
   "source": [
    "# Exercise 40 "
   ]
  },
  {
   "cell_type": "code",
   "execution_count": 55,
   "id": "8c199c3a-21e0-4b5d-9bed-75a6c78a74a3",
   "metadata": {},
   "outputs": [],
   "source": [
    "absolute = abs(-25)"
   ]
  },
  {
   "cell_type": "markdown",
   "id": "317542a1-1cc3-465d-a9c7-3b966dfbef2e",
   "metadata": {},
   "source": [
    "# Exercise 41"
   ]
  },
  {
   "cell_type": "code",
   "execution_count": null,
   "id": "34ffc59d-d310-41ab-9d3c-4fa63b2da220",
   "metadata": {},
   "outputs": [],
   "source": [
    " floor_div_result = 100 // 6 "
   ]
  }
 ],
 "metadata": {
  "kernelspec": {
   "display_name": "Python 3 (ipykernel)",
   "language": "python",
   "name": "python3"
  },
  "language_info": {
   "codemirror_mode": {
    "name": "ipython",
    "version": 3
   },
   "file_extension": ".py",
   "mimetype": "text/x-python",
   "name": "python",
   "nbconvert_exporter": "python",
   "pygments_lexer": "ipython3",
   "version": "3.11.7"
  }
 },
 "nbformat": 4,
 "nbformat_minor": 5
}
