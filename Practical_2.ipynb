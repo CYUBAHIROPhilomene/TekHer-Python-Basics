{
 "cells": [
  {
   "cell_type": "markdown",
   "id": "d68c1dee",
   "metadata": {},
   "source": [
    "# Practical_2: String and files"
   ]
  },
  {
   "cell_type": "markdown",
   "id": "bea983a3",
   "metadata": {},
   "source": [
    "---\n",
    "\n",
    "### Exercise 1:\n",
    "Create a string variable `text` and assign it the value `\"Python is amazing!\"`.\n",
    "\n",
    "```python\n",
    "# Exercise 1\n",
    "```\n",
    "\n",
    "---\n",
    "\n",
    "### Exercise 2:\n",
    "Find the length of the string `\"Hello, World!\"` and store it in a variable `length`.\n",
    "\n",
    "```python\n",
    "# Exercise 2\n",
    "```\n",
    "\n",
    "---\n",
    "\n",
    "### Exercise 3:\n",
    "Convert the string `\"python programming\"` to uppercase and store it in a variable `upper_text`.\n",
    "\n",
    "```python\n",
    "# Exercise 3\n",
    "```\n",
    "\n",
    "---\n",
    "\n",
    "### Exercise 4:\n",
    "Extract the first 5 characters from the string `\"Artificial Intelligence\"`.\n",
    "\n",
    "```python\n",
    "# Exercise 4\n",
    "```\n",
    "\n",
    "---\n",
    "\n",
    "### Exercise 5:\n",
    "Concatenate the strings `\"Hello\"` and `\"World\"` with a space in between.\n",
    "\n",
    "```python\n",
    "# Exercise 5\n",
    "```\n",
    "\n",
    "---\n",
    "\n",
    "### Exercise 6:\n",
    "Replace the word `\"dog\"` with `\"cat\"` in the string `\"The quick brown dog jumps over the lazy dog.\"`.\n",
    "\n",
    "```python\n",
    "# Exercise 6\n",
    "```\n",
    "\n",
    "---\n",
    "\n",
    "### Exercise 7:\n",
    "Split the string `\"apple,banana,orange\"` by commas and store the result in a list `fruits_list`.\n",
    "\n",
    "```python\n",
    "# Exercise 7\n",
    "```\n",
    "\n",
    "---\n",
    "\n",
    "### Exercise 8:\n",
    "Use string formatting to create the sentence `\"My name is Alice and I am 25 years old.\"`, where the name and age are variables.\n",
    "\n",
    "```python\n",
    "# Exercise 8\n",
    "```\n",
    "\n",
    "---\n",
    "\n",
    "### Exercise 9:\n",
    "Check if the string `\"python\"` is present in the sentence `\"I love python programming\"`.\n",
    "\n",
    "```python\n",
    "# Exercise 9\n",
    "```\n",
    "\n",
    "---\n",
    "\n",
    "### Exercise 10:\n",
    "Count the number of occurrences of the letter `\"e\"` in the string `\"Elephant is an elegant animal\"`.\n",
    "\n",
    "```python\n",
    "# Exercise 10\n",
    "```\n",
    "\n",
    "---\n",
    "\n",
    "### Exercise 11:\n",
    "Remove any leading and trailing spaces from the string `\"   Data Science   \"`.\n",
    "\n",
    "```python\n",
    "# Exercise 11\n",
    "```\n",
    "\n",
    "---\n",
    "\n",
    "### Exercise 12:\n",
    "Convert the string `\"100\"` into an integer and store it in a variable `int_value`.\n",
    "\n",
    "```python\n",
    "# Exercise 12\n",
    "```\n",
    "\n",
    "---\n",
    "\n",
    "### Exercise 13:\n",
    "Extract the substring `\"pro\"` from the string `\"programming\"`.\n",
    "\n",
    "```python\n",
    "# Exercise 13\n",
    "```\n",
    "\n",
    "---\n",
    "\n",
    "### Exercise 14:\n",
    "Check if the string `\"data\"` starts with `\"da\"` and ends with `\"ta\"`.\n",
    "\n",
    "```python\n",
    "# Exercise 14\n",
    "```\n",
    "\n",
    "---\n",
    "\n",
    "### Exercise 15:\n",
    "Reverse the string `\"machine learning\"` and store the result in `reversed_text`.\n",
    "\n",
    "```python\n",
    "# Exercise 15\n",
    "```\n",
    "\n",
    "---\n",
    "\n",
    "### Exercise 16:\n",
    "Convert the first letter of each word in the string `\"machine learning is fun\"` to uppercase.\n",
    "\n",
    "```python\n",
    "# Exercise 16\n",
    "```\n",
    "\n",
    "---\n",
    "\n",
    "### Exercise 17:\n",
    "Create a multiline string representing a poem and store it in a variable `poem`.\n",
    "\n",
    "```python\n",
    "# Exercise 17\n",
    "```\n",
    "\n",
    "---\n",
    "\n",
    "### Exercise 18:\n",
    "Write a string to a file named `\"output.txt\"`.\n",
    "\n",
    "```python\n",
    "# Exercise 18\n",
    "```\n",
    "\n",
    "---\n",
    "\n",
    "### Exercise 19:\n",
    "Read the contents of a file named `\"data.txt\"` and print it line by line.\n",
    "\n",
    "```python\n",
    "# Exercise 19\n",
    "```\n",
    "\n",
    "---\n",
    "\n",
    "### Exercise 20:\n",
    "Check if a file `\"example.txt\"` exists before opening it.\n",
    "\n",
    "```python\n",
    "# Exercise 20\n",
    "```\n",
    "\n",
    "---\n",
    "\n",
    "### Exercise 21:\n",
    "Append a new line `\"This is a new line\"` to an existing file `\"notes.txt\"`.\n",
    "\n",
    "```python\n",
    "# Exercise 21\n",
    "```\n",
    "\n",
    "---\n",
    "\n",
    "### Exercise 22:\n",
    "Read the contents of a file `\"log.txt\"` and store each line in a list `log_lines`.\n",
    "\n",
    "```python\n",
    "# Exercise 22\n",
    "```\n",
    "\n",
    "---\n",
    "\n",
    "### Exercise 23:\n",
    "Create a new file `\"report.txt\"` and write the string `\"Data analysis report\"` to it.\n",
    "\n",
    "```python\n",
    "# Exercise 23\n",
    "```\n",
    "\n",
    "---\n",
    "\n",
    "### Exercise 24:\n",
    "Replace the word `\"error\"` with `\"issue\"` in a file `\"log.txt\"`.\n",
    "\n",
    "```python\n",
    "# Exercise 24\n",
    "```\n",
    "\n",
    "---\n",
    "\n",
    "### Exercise 25:\n",
    "Count the number of words in a text file `\"document.txt\"`.\n",
    "\n",
    "```python\n",
    "# Exercise 25\n",
    "```\n",
    "\n",
    "---\n",
    "\n",
    "### Exercise 26:\n",
    "Write a Python script that reads a file `\"essay.txt\"` and prints the total number of lines, words, and characters.\n",
    "\n",
    "```python\n",
    "# Exercise 26\n",
    "```\n",
    "\n",
    "---\n",
    "\n",
    "### Exercise 27:\n",
    "Copy the contents of one file `\"source.txt\"` to another file `\"destination.txt\"`.\n",
    "\n",
    "```python\n",
    "# Exercise 27\n",
    "```\n",
    "\n",
    "---\n",
    "\n",
    "### Exercise 28:\n",
    "Write a Python function that takes a filename as input and returns the number of lines in the file.\n",
    "\n",
    "```python\n",
    "# Exercise 28\n",
    "```\n",
    "\n",
    "---\n",
    "\n",
    "### Exercise 29:\n",
    "Extract all the words from a text file `\"article.txt\"` that contain more than 5 characters.\n",
    "\n",
    "```python\n",
    "# Exercise 29\n",
    "```\n",
    "\n",
    "---\n",
    "\n",
    "### Exercise 30:\n",
    "Convert the contents of a file `\"notes.txt\"` to uppercase and save the result in another file `\"uppercase_notes.txt\"`.\n",
    "\n",
    "```python\n",
    "# Exercise 30\n",
    "```\n",
    "\n",
    "---\n",
    "\n",
    "### Exercise 31:\n",
    "Write a Python script that reads a file and removes all empty lines.\n",
    "\n",
    "```python\n",
    "# Exercise 31\n",
    "```\n",
    "\n",
    "---\n",
    "\n",
    "### Exercise 32:\n",
    "Open a file `\"config.txt\"` in both read and write mode.\n",
    "\n",
    "```python\n",
    "# Exercise 32\n",
    "```\n",
    "\n",
    "---\n",
    "\n",
    "### Exercise 33:\n",
    "Write a Python function that reads a file and prints the longest line in the file.\n",
    "\n",
    "```python\n",
    "# Exercise 33\n",
    "```\n",
    "\n",
    "---\n",
    "\n",
    "### Exercise 34:\n",
    "Write a Python script to count the frequency of each letter in a text file `\"message.txt\"`.\n",
    "\n",
    "```python\n",
    "# Exercise 34\n",
    "```\n",
    "\n",
    "---\n",
    "\n",
    "### Exercise 35:\n",
    "Write a Python script that reads a file and prints the total number of characters, excluding spaces.\n",
    "\n",
    "```python\n",
    "# Exercise 35\n",
    "```\n",
    "\n",
    "---\n",
    "\n",
    "### Exercise 36:\n",
    "Create a Python script to check whether a file is empty or not.\n",
    "\n",
    "```python\n",
    "# Exercise 36\n",
    "```\n",
    "\n",
    "---\n",
    "\n",
    "### Exercise 37:\n",
    "Write a Python function that reads a file and removes all punctuation marks from the text.\n",
    "\n",
    "```python\n",
    "# Exercise 37\n",
    "```\n",
    "\n",
    "---\n",
    "\n",
    "### Exercise 38:\n",
    "Create a Python function that writes a list of strings to a file, each string on a new line.\n",
    "\n",
    "```python\n",
    "# Exercise 38\n",
    "```\n",
    "\n",
    "---\n",
    "\n",
    "### Exercise 39:\n",
    "Write a Python script to count the number of lines that start with a specific letter (e.g., \"A\") in a text file.\n",
    "\n",
    "```python\n",
    "# Exercise 39\n",
    "```\n",
    "\n",
    "---\n",
    "\n",
    "### Exercise 40:\n",
    "Write a Python function that takes a string as input and writes it to a file `\"output.txt\"` in reverse order.\n",
    "\n",
    "```python\n",
    "# Exercise 40\n",
    "```\n",
    "\n",
    "---\n",
    "\n",
    "### Exercise 41:\n",
    "Write a Python script that reads a file and prints all the lines that contain the word `\"Python\"`.\n",
    "\n",
    "```python\n",
    "# Exercise 41\n",
    "```\n",
    "\n",
    "---\n",
    "\n",
    "### Exercise 42:\n",
    "Write a Python script that opens a file and removes all numeric digits from the file's content.\n",
    "\n",
    "```python\n",
    "# Exercise 42\n",
    "```\n",
    "\n",
    "---\n",
    "\n",
    "### Exercise 43:\n",
    "Write a Python script to find the most frequent word in a text file `\"book.txt\"`.\n",
    "\n",
    "```python\n",
    "# Exercise 43\n",
    "```\n",
    "\n",
    "---\n",
    "\n",
    "### Exercise 44:\n",
    "Write a Python script that reads a file and prints all the lines that contain exactly 5 words.\n",
    "\n",
    "```python\n",
    "# Exercise 44\n",
    "```\n",
    "\n",
    "---\n",
    "\n",
    "### Exercise 45:\n",
    "Write a Python script to read a file and print the first and last line of the file.\n",
    "\n",
    "```python\n",
    "# Exercise 45\n",
    "```\n",
    "\n",
    "---\n",
    "\n",
    "### Exercise 46:\n",
    "Write a Python script that checks if a file `\"students.txt\"` is writable.\n",
    "\n",
    "```python\n",
    "# Exercise 46\n",
    "```\n",
    "\n",
    "---\n",
    "\n",
    "### Exercise 47:\n",
    "Create a Python function that opens a file and returns the number of unique words in the file.\n",
    "\n",
    "```python\n",
    "# Exercise 47\n",
    "```\n",
    "\n",
    "---\n",
    "\n",
    "### Exercise 48:\n",
    "Write a Python script that reads a file and prints all lines in reverse order.\n",
    "\n",
    "```python\n",
    "# Exercise 48\n",
    "```\n",
    "\n",
    "---\n",
    "\n",
    "### Exercise 49:\n",
    "Write a Python function that reads a file and returns the most common letter in the text.\n",
    "\n",
    "```python\n",
    "# Exercise 49\n",
    "```\n",
    "\n",
    "---\n",
    "\n",
    "### Exercise 50:\n",
    "Write a Python script that reads a file and replaces every occurrence of `\"Python\"` with `\"Java\"`.\n",
    "\n",
    "```python\n",
    "# Exercise 50\n",
    "```\n",
    "\n",
    "---\n",
    "\n"
   ]
  },
  {
   "cell_type": "markdown",
   "id": "99fa8d4b-a27e-4689-811e-9ed14ff8d63b",
   "metadata": {},
   "source": [
    "# Exercise 1"
   ]
  },
  {
   "cell_type": "code",
   "execution_count": 88,
   "id": "c19c1e27-7104-4367-aecf-8197ab8959ac",
   "metadata": {},
   "outputs": [],
   "source": [
    "text = \"Python is amazing!\""
   ]
  },
  {
   "cell_type": "markdown",
   "id": "25161c25-6897-4d6d-a58c-53d65d5c2fd6",
   "metadata": {},
   "source": [
    "# Exercise 2"
   ]
  },
  {
   "cell_type": "code",
   "execution_count": 127,
   "id": "ecb38d34-20a8-432d-81ac-edb78aa3cd8a",
   "metadata": {},
   "outputs": [
    {
     "data": {
      "text/plain": [
       "13"
      ]
     },
     "execution_count": 127,
     "metadata": {},
     "output_type": "execute_result"
    }
   ],
   "source": [
    "length = len(\"Hello, World!\")\n",
    "length"
   ]
  },
  {
   "cell_type": "markdown",
   "id": "ff8d5c97-173c-48be-8fdb-49ea29e3897d",
   "metadata": {},
   "source": [
    "# Exercise 3"
   ]
  },
  {
   "cell_type": "code",
   "execution_count": 128,
   "id": "a9dadc50-71e9-4e29-a287-3d346f55b255",
   "metadata": {},
   "outputs": [
    {
     "data": {
      "text/plain": [
       "'PYTHON PROGRAMMING'"
      ]
     },
     "execution_count": 128,
     "metadata": {},
     "output_type": "execute_result"
    }
   ],
   "source": [
    "upper_text = \"python programming\".upper()\n",
    "upper_text"
   ]
  },
  {
   "cell_type": "markdown",
   "id": "e7620121-11a9-4e70-804f-2654b9ffa0d0",
   "metadata": {},
   "source": [
    "# Exercise 4"
   ]
  },
  {
   "cell_type": "code",
   "execution_count": 129,
   "id": "5073dfc4-2f59-4b7a-952d-44b28c293f52",
   "metadata": {},
   "outputs": [
    {
     "data": {
      "text/plain": [
       "'Artif'"
      ]
     },
     "execution_count": 129,
     "metadata": {},
     "output_type": "execute_result"
    }
   ],
   "source": [
    "first_five = \"Artificial Intelligence\"[:5]\n",
    "first_five"
   ]
  },
  {
   "cell_type": "markdown",
   "id": "61d85b18-1dfa-4333-b254-00b145f3a4b6",
   "metadata": {},
   "source": [
    "# Exercise 5"
   ]
  },
  {
   "cell_type": "code",
   "execution_count": 131,
   "id": "4545f202-fa93-49b8-805e-2d7f6c91e979",
   "metadata": {},
   "outputs": [
    {
     "data": {
      "text/plain": [
       "'Hello World!'"
      ]
     },
     "execution_count": 131,
     "metadata": {},
     "output_type": "execute_result"
    }
   ],
   "source": [
    "str = \"Hello\" + \" \" + \"World!\"\n",
    "str"
   ]
  },
  {
   "cell_type": "markdown",
   "id": "c1c80769-26f4-423a-9bd9-2ca5bb571098",
   "metadata": {},
   "source": [
    "# Exercise 6"
   ]
  },
  {
   "cell_type": "code",
   "execution_count": 133,
   "id": "1d3a11b5-b5a3-4804-b8f4-7b6d50ad59d5",
   "metadata": {},
   "outputs": [
    {
     "data": {
      "text/plain": [
       "'The quick brown cat jumps over the lazy cat.'"
      ]
     },
     "execution_count": 133,
     "metadata": {},
     "output_type": "execute_result"
    }
   ],
   "source": [
    "replace = \"The quick brown dog jumps over the lazy dog.\".replace(\"dog\", \"cat\")\n",
    "replace"
   ]
  },
  {
   "cell_type": "markdown",
   "id": "2e4be3cd-0e70-4f00-a2a1-eda32280bcfe",
   "metadata": {},
   "source": [
    "# Exercise 7"
   ]
  },
  {
   "cell_type": "code",
   "execution_count": 134,
   "id": "bfd639a1-1fbf-4f13-9fc1-14c15a3dd583",
   "metadata": {},
   "outputs": [
    {
     "data": {
      "text/plain": [
       "['apple', 'banana', 'orange']"
      ]
     },
     "execution_count": 134,
     "metadata": {},
     "output_type": "execute_result"
    }
   ],
   "source": [
    "fruits = \"apple,banana,orange\".split(\",\")\n",
    "fruits"
   ]
  },
  {
   "cell_type": "markdown",
   "id": "e9303418-c6c4-4d17-baf0-f8be29c75391",
   "metadata": {},
   "source": [
    "# Exercise 8"
   ]
  },
  {
   "cell_type": "code",
   "execution_count": 95,
   "id": "a0857c72-4618-4c1f-b965-39f1921c9ab8",
   "metadata": {},
   "outputs": [
    {
     "data": {
      "text/plain": [
       "'My name is Alice and I am 25 years old.'"
      ]
     },
     "execution_count": 95,
     "metadata": {},
     "output_type": "execute_result"
    }
   ],
   "source": [
    "name  = \"Alice\"\n",
    "Age = 25\n",
    "sentence = f\"My name is {name} and I am {Age} years old.\"\n",
    "sentence"
   ]
  },
  {
   "cell_type": "markdown",
   "id": "24195fb5-d5c8-479b-8a9e-4057db8b3dbc",
   "metadata": {},
   "source": [
    "# Exercise 9"
   ]
  },
  {
   "cell_type": "code",
   "execution_count": 135,
   "id": "e8b4301b-7d13-4771-8ee2-e6cda3922aa2",
   "metadata": {},
   "outputs": [
    {
     "data": {
      "text/plain": [
       "True"
      ]
     },
     "execution_count": 135,
     "metadata": {},
     "output_type": "execute_result"
    }
   ],
   "source": [
    "is_present = \"python\" in \"I love python programming\"\n",
    "is_present"
   ]
  },
  {
   "cell_type": "markdown",
   "id": "dd8a3cf2-6c0d-4e42-b48a-729b2dfd0cf4",
   "metadata": {},
   "source": [
    "# Exercise 10"
   ]
  },
  {
   "cell_type": "code",
   "execution_count": 136,
   "id": "8aeda6af-8b7f-4ab3-a7fd-8d7d660c1023",
   "metadata": {},
   "outputs": [
    {
     "data": {
      "text/plain": [
       "3"
      ]
     },
     "execution_count": 136,
     "metadata": {},
     "output_type": "execute_result"
    }
   ],
   "source": [
    "count = \"Elephant is an elegant animal\".count(\"e\")\n",
    "count"
   ]
  },
  {
   "cell_type": "markdown",
   "id": "60541f2e-00f6-441e-b131-4bbe867ab269",
   "metadata": {},
   "source": [
    "# Exercise 11"
   ]
  },
  {
   "cell_type": "code",
   "execution_count": 98,
   "id": "6d82853d-728b-4bf2-9d74-8ac83989738e",
   "metadata": {},
   "outputs": [
    {
     "data": {
      "text/plain": [
       "'Data Science'"
      ]
     },
     "execution_count": 98,
     "metadata": {},
     "output_type": "execute_result"
    }
   ],
   "source": [
    "dt = \"   Data Science   \".strip()\n",
    "dt"
   ]
  },
  {
   "cell_type": "markdown",
   "id": "ed7acf10-b6d8-446e-9a19-9278ddf5fc3a",
   "metadata": {},
   "source": [
    "# Exercise 12"
   ]
  },
  {
   "cell_type": "code",
   "execution_count": 99,
   "id": "e619816f-b902-4535-a79a-6086bcda4557",
   "metadata": {},
   "outputs": [
    {
     "data": {
      "text/plain": [
       "10"
      ]
     },
     "execution_count": 99,
     "metadata": {},
     "output_type": "execute_result"
    }
   ],
   "source": [
    "int_value = int(\"10\")\n",
    "int_value"
   ]
  },
  {
   "cell_type": "markdown",
   "id": "40318d0e-b5bc-4ce7-926e-dfa3c2cf4f0b",
   "metadata": {},
   "source": [
    "# Exercise 13"
   ]
  },
  {
   "cell_type": "code",
   "execution_count": 100,
   "id": "2d129fe6-c492-4347-b166-680823aed17a",
   "metadata": {},
   "outputs": [
    {
     "data": {
      "text/plain": [
       "'pro'"
      ]
     },
     "execution_count": 100,
     "metadata": {},
     "output_type": "execute_result"
    }
   ],
   "source": [
    "substring = \"programming\"[0:3]\n",
    "substring"
   ]
  },
  {
   "cell_type": "markdown",
   "id": "a244cdbf-e2d2-4007-a985-7c56f683e39c",
   "metadata": {},
   "source": [
    "# Exercise 14"
   ]
  },
  {
   "cell_type": "code",
   "execution_count": 101,
   "id": "867c7fb3-9216-47d1-9417-c0e8f67f2228",
   "metadata": {},
   "outputs": [
    {
     "data": {
      "text/plain": [
       "True"
      ]
     },
     "execution_count": 101,
     "metadata": {},
     "output_type": "execute_result"
    }
   ],
   "source": [
    "check = \"data\".startswith(\"da\") and \"data\".endswith(\"ta\")\n",
    "check"
   ]
  },
  {
   "cell_type": "markdown",
   "id": "ffa37da1-d627-46c6-a02c-347b4cb7694d",
   "metadata": {},
   "source": [
    "# Exercise 15"
   ]
  },
  {
   "cell_type": "code",
   "execution_count": 102,
   "id": "0fb67ae6-5313-4f15-8de2-0a88ab271d71",
   "metadata": {},
   "outputs": [
    {
     "data": {
      "text/plain": [
       "'gninrael enihcaM'"
      ]
     },
     "execution_count": 102,
     "metadata": {},
     "output_type": "execute_result"
    }
   ],
   "source": [
    "reversed_text = \"Machine learning\"[::-1]\n",
    "reversed_text"
   ]
  },
  {
   "cell_type": "markdown",
   "id": "6fe75084-fd24-414c-8d6c-ef3dd2fd18e7",
   "metadata": {},
   "source": [
    "# Exercise 16"
   ]
  },
  {
   "cell_type": "code",
   "execution_count": 103,
   "id": "6ca7fe77-8476-4139-91fe-a65f45f55400",
   "metadata": {},
   "outputs": [
    {
     "data": {
      "text/plain": [
       "'Machine Learning Is Fun'"
      ]
     },
     "execution_count": 103,
     "metadata": {},
     "output_type": "execute_result"
    }
   ],
   "source": [
    "title_text = \"machine learning is fun\".title()\n",
    "title_text"
   ]
  },
  {
   "cell_type": "markdown",
   "id": "efbc6515-98dc-48fa-b355-dec0e8b59426",
   "metadata": {},
   "source": [
    "# Exercise 17"
   ]
  },
  {
   "cell_type": "code",
   "execution_count": 104,
   "id": "162e9aa1-7899-49d4-9424-7a709941d6a0",
   "metadata": {},
   "outputs": [
    {
     "name": "stdout",
     "output_type": "stream",
     "text": [
      "Roses are red,\n",
      "Violets are blue,\n",
      "Python is awesome,\n",
      "And so are you.\n"
     ]
    }
   ],
   "source": [
    "poem = \"\"\"Roses are red,\n",
    "Violets are blue,\n",
    "Python is awesome,\n",
    "And so are you.\"\"\"\n",
    "print(poem)"
   ]
  },
  {
   "cell_type": "markdown",
   "id": "08240db4-7f52-42c9-ae4c-c050dd6acef6",
   "metadata": {},
   "source": [
    "# Exercise 18"
   ]
  },
  {
   "cell_type": "code",
   "execution_count": 137,
   "id": "ad4bd1d3-577a-47e4-b41a-8948db81be8d",
   "metadata": {},
   "outputs": [
    {
     "name": "stdout",
     "output_type": "stream",
     "text": [
      "This is the string to write to the file.\n"
     ]
    }
   ],
   "source": [
    "my_string = \"This is the string to write to the file.\"\n",
    "with open(\"data/output.txt\", \"w\") as file:\n",
    "  file.write(my_string)\n",
    "\n",
    "with open(\"data/output.txt\", \"r\") as f:\n",
    "        print(f.read())"
   ]
  },
  {
   "cell_type": "markdown",
   "id": "93d450bb-83fb-4ba6-8186-91415666ffeb",
   "metadata": {},
   "source": [
    "# Exercise 19"
   ]
  },
  {
   "cell_type": "code",
   "execution_count": 106,
   "id": "93830b51-08b4-4c14-9d42-d03ccd90193c",
   "metadata": {},
   "outputs": [
    {
     "name": "stdout",
     "output_type": "stream",
     "text": [
      "Name,Age,Score\n",
      "Alice,23,85\n",
      "Bob,30,90\n",
      "Charlie,25,88\n"
     ]
    }
   ],
   "source": [
    "with open(\"data/data.txt\", \"r\") as f:\n",
    "    for line in f:\n",
    "        print(line.strip())"
   ]
  },
  {
   "cell_type": "markdown",
   "id": "9ff8c74a-537c-49c7-96b7-33ba2b83353e",
   "metadata": {},
   "source": [
    "# Exercise 20"
   ]
  },
  {
   "cell_type": "code",
   "execution_count": 107,
   "id": "49ea6904-9f14-4013-ab7d-82d4af5a2def",
   "metadata": {},
   "outputs": [
    {
     "name": "stdout",
     "output_type": "stream",
     "text": [
      "This is an example text file used for demonstration.\n",
      "\n"
     ]
    }
   ],
   "source": [
    "import os\n",
    "if os.path.exists(\"data/example.txt\"):\n",
    "    with open(\"data/example.txt\", \"r\") as f:\n",
    "        print(f.read())"
   ]
  },
  {
   "cell_type": "markdown",
   "id": "e9571076-c48e-4ec2-8724-7145b1331e5b",
   "metadata": {},
   "source": [
    "# Exercise 21"
   ]
  },
  {
   "cell_type": "code",
   "execution_count": 138,
   "id": "ce17be1b-bb01-431e-bbb8-c171c7796a1b",
   "metadata": {},
   "outputs": [
    {
     "name": "stdout",
     "output_type": "stream",
     "text": [
      "Python is a versatile language.\n",
      "Great for data analysis.\n",
      "\n",
      "This is a new line\n",
      "This is a new line\n",
      "This is a new line\n"
     ]
    }
   ],
   "source": [
    "with open(\"data/notes.txt\", \"a\") as f:\n",
    "    f.write(\"\\nThis is a new line\")\n",
    "with open(\"data/notes.txt\", \"r\") as f:\n",
    "        print(f.read())"
   ]
  },
  {
   "cell_type": "markdown",
   "id": "ac7c7796-c6b0-47e1-ae04-104e28e294c0",
   "metadata": {},
   "source": [
    "# Exercise 22"
   ]
  },
  {
   "cell_type": "code",
   "execution_count": 142,
   "id": "56411258-6143-44cf-abf6-acc6ba2735fb",
   "metadata": {},
   "outputs": [],
   "source": [
    "with open(\"data/log.txt\", \"r\") as f:\n",
    "    log_lines = f.readlines()"
   ]
  },
  {
   "cell_type": "markdown",
   "id": "dcd93727-57c4-408f-a9b4-ed1c6305b9ba",
   "metadata": {},
   "source": [
    "# Exercise 23"
   ]
  },
  {
   "cell_type": "code",
   "execution_count": 143,
   "id": "c3c9db00-0c41-4174-8ad4-1ccd3c37c8d5",
   "metadata": {},
   "outputs": [
    {
     "name": "stdout",
     "output_type": "stream",
     "text": [
      "Data analysis report\n"
     ]
    }
   ],
   "source": [
    "with open(\"data/report.txt\", \"w\") as f:\n",
    "    f.write(\"Data analysis report\")\n",
    "with open(\"data/report.txt\", \"r\") as f:\n",
    "        print(f.read())"
   ]
  },
  {
   "cell_type": "markdown",
   "id": "962ebb87-b48b-48c1-9d13-5cca54b1baa4",
   "metadata": {},
   "source": [
    "# Exercise 24"
   ]
  },
  {
   "cell_type": "code",
   "execution_count": 147,
   "id": "6aa8abd1-3f17-4749-9d6c-70939c876994",
   "metadata": {},
   "outputs": [
    {
     "name": "stdout",
     "output_type": "stream",
     "text": [
      "2024-05-20 10:00:00 INFO Program started\n",
      "2024-05-20 10:05:00 ERROR Invalid input\n",
      "\n"
     ]
    }
   ],
   "source": [
    "with open(\"data/log.txt\", \"r\") as f:\n",
    "    content = f.read()\n",
    "content = content.replace(\"error\", \"issue\")\n",
    "with open(\"data/log.txt\", \"w\") as f:\n",
    "    f.write(content)\n",
    "\n",
    "with open(\"data/log.txt\", \"r\") as f:\n",
    "        print(f.read())"
   ]
  },
  {
   "cell_type": "markdown",
   "id": "127617ad-114e-4d23-9b69-428205e12815",
   "metadata": {},
   "source": [
    "# Exercise 25"
   ]
  },
  {
   "cell_type": "code",
   "execution_count": 148,
   "id": "6f1afefd-7197-4367-9465-2e3719febcfb",
   "metadata": {},
   "outputs": [],
   "source": [
    "with open(\"data/document.txt\", \"r\") as f:\n",
    "    word_count = len(f.read().split())"
   ]
  },
  {
   "cell_type": "markdown",
   "id": "fc769f25-640a-4993-b371-7fbcc78ca07b",
   "metadata": {},
   "source": [
    "# Exercise 26"
   ]
  },
  {
   "cell_type": "code",
   "execution_count": 113,
   "id": "d58e83ae-03f6-4f31-b010-4cb995d1a287",
   "metadata": {},
   "outputs": [
    {
     "name": "stdout",
     "output_type": "stream",
     "text": [
      "Lines: 1\n",
      "Words: 10\n",
      "Characters: 66\n"
     ]
    }
   ],
   "source": [
    "with open(\"data/essay.txt\", \"r\") as f:\n",
    "    text = f.read()\n",
    "    lines = text.splitlines()\n",
    "    words = text.split()\n",
    "    print(\"Lines:\", len(lines))\n",
    "    print(\"Words:\", len(words))\n",
    "    print(\"Characters:\", len(text))"
   ]
  },
  {
   "cell_type": "markdown",
   "id": "505bf889-6c92-4582-a9d0-01994a1fbf65",
   "metadata": {},
   "source": [
    "# Exercise 27"
   ]
  },
  {
   "cell_type": "code",
   "execution_count": 155,
   "id": "194945d0-df6e-4ebd-8d08-27975e20df69",
   "metadata": {},
   "outputs": [
    {
     "name": "stdout",
     "output_type": "stream",
     "text": [
      "The quick brown fox jumps over the lazy dog.\n",
      "\n"
     ]
    }
   ],
   "source": [
    "with open(\"data/source.txt\", \"r\") as src, open(\"data/destination.txt\", \"w\") as dst:\n",
    "    dst.write(src.read())\n",
    "with open(\"data/destination.txt\", \"r\") as f:\n",
    "        print(f.read())"
   ]
  },
  {
   "cell_type": "markdown",
   "id": "4ed3a799-ab6f-4e9b-9dd4-f50824082234",
   "metadata": {},
   "source": [
    "# Exercise 28"
   ]
  },
  {
   "cell_type": "code",
   "execution_count": 115,
   "id": "1164314d-8c4d-40ac-b359-98d6ab59098d",
   "metadata": {},
   "outputs": [],
   "source": [
    "def count_lines(filename):\n",
    "    with open(filename, \"r\") as f:\n",
    "        return len(f.readlines())"
   ]
  },
  {
   "cell_type": "markdown",
   "id": "b2e74ec5-4928-4809-93df-6a49890e9d85",
   "metadata": {},
   "source": [
    "# Exercise 29"
   ]
  },
  {
   "cell_type": "code",
   "execution_count": 116,
   "id": "ec2301e0-362b-465e-af44-84bb7ceae684",
   "metadata": {},
   "outputs": [],
   "source": [
    "with open(\"data/article.txt\", \"r\") as f:\n",
    "     words = [word for word in f.read().split() if len(word) > 5]"
   ]
  },
  {
   "cell_type": "markdown",
   "id": "14b2e0b6-0e07-4ce3-bcf1-4e2b2735cc73",
   "metadata": {},
   "source": [
    "# Exercise 30"
   ]
  },
  {
   "cell_type": "code",
   "execution_count": 117,
   "id": "75f0d1ee-1a37-4ea1-96af-55b3a9bb57cf",
   "metadata": {},
   "outputs": [],
   "source": [
    "with open(\"data/notes.txt\", \"r\") as f:\n",
    "    content = f.read().upper()\n",
    "with open(\"data/uppercase_notes.txt\", \"w\") as f:\n",
    "    f.write(content)"
   ]
  },
  {
   "cell_type": "markdown",
   "id": "09124f1a-c8d8-4a46-9789-d24f96115e68",
   "metadata": {},
   "source": [
    "# Exercise 31"
   ]
  },
  {
   "cell_type": "code",
   "execution_count": 156,
   "id": "531c1726-0ace-41ea-8dec-1bfc34448b6b",
   "metadata": {},
   "outputs": [],
   "source": [
    "def remove_empty_lines(file_name, output_file):\n",
    "    with open(file_name, 'r') as infile:\n",
    "        lines = infile.readlines()\n",
    "\n",
    "    non_empty_lines = [line for line in lines if line.strip() != '']\n",
    "\n",
    "    with open(output_file, 'w') as outfile:\n",
    "        outfile.writelines(non_empty_lines)"
   ]
  },
  {
   "cell_type": "markdown",
   "id": "f5a3f17a-9bf3-48cd-88a5-012d00857e3b",
   "metadata": {},
   "source": [
    "# Exercise 32"
   ]
  },
  {
   "cell_type": "code",
   "execution_count": 119,
   "id": "790be22f-251d-4f5a-8367-01b4a063a981",
   "metadata": {},
   "outputs": [],
   "source": [
    "with open(\"data/config.txt\", \"r+\") as f:\n",
    "    pass  "
   ]
  },
  {
   "cell_type": "markdown",
   "id": "e40d27cb-c8a1-41de-abaf-0d646a56c5d8",
   "metadata": {},
   "source": [
    "# Exercise 33"
   ]
  },
  {
   "cell_type": "code",
   "execution_count": 120,
   "id": "5e1b329d-db09-41e5-a5a4-d4aba1eaf4d9",
   "metadata": {},
   "outputs": [],
   "source": [
    "def longest_line(filename):\n",
    "    with open(filename, \"r\") as f:\n",
    "        return max(f, key=len)"
   ]
  },
  {
   "cell_type": "markdown",
   "id": "1f3e270c-de45-46ea-8f73-52027225bf34",
   "metadata": {},
   "source": [
    "# Exercise 34"
   ]
  },
  {
   "cell_type": "code",
   "execution_count": 121,
   "id": "7a66a917-2b9b-450c-81af-413a5f08938f",
   "metadata": {},
   "outputs": [
    {
     "name": "stdout",
     "output_type": "stream",
     "text": [
      "hellothere!\n",
      "thisisamessagefile.\n",
      "\n",
      "Counter({'e': 6, 's': 4, 'h': 3, 'l': 3, 'i': 3, 't': 2, 'a': 2, 'o': 1, 'r': 1, 'm': 1, 'g': 1, 'f': 1})\n"
     ]
    }
   ],
   "source": [
    "from collections import Counter\n",
    "with open(\"data/message.txt\", \"r\") as f:\n",
    "    content = f.read().replace(\" \", \"\").lower()\n",
    "    frequency = Counter(c for c in content if c.isalpha())\n",
    "\n",
    "print(content)\n",
    "print(frequency)"
   ]
  },
  {
   "cell_type": "markdown",
   "id": "323e4a47-4343-4787-a75a-8efed05d6bf1",
   "metadata": {},
   "source": [
    "# Exercise 35"
   ]
  },
  {
   "cell_type": "code",
   "execution_count": 158,
   "id": "ac0b0d2d-4ad0-4f40-81e7-ef9a6610d020",
   "metadata": {},
   "outputs": [
    {
     "name": "stdout",
     "output_type": "stream",
     "text": [
      "Total number of characters (spaces not included): 51\n"
     ]
    }
   ],
   "source": [
    "def count_characters_excluding_spaces(file_name):\n",
    "    with open(file_name, 'r') as file:\n",
    "        value = file.read()\n",
    "        value_no_spaces = value.replace(' ', '')\n",
    "        char_count = len(value_no_spaces)\n",
    "        print(f\"Total number of characters (spaces not included): {char_count}\")\n",
    "\n",
    "count_characters_excluding_spaces(\"data/book.txt\")"
   ]
  },
  {
   "cell_type": "markdown",
   "id": "87cdc1e0-d903-4c2c-a6d9-134025ac211c",
   "metadata": {},
   "source": [
    "# Exercise 36"
   ]
  },
  {
   "cell_type": "code",
   "execution_count": 123,
   "id": "ee4b120b-44ba-464c-9bcd-4db1abf1c204",
   "metadata": {},
   "outputs": [],
   "source": [
    "def is_file_empty(filename):\n",
    "    return os.path.getsize(filename) == 0"
   ]
  },
  {
   "cell_type": "markdown",
   "id": "bb2911ca-73c5-4476-867f-dfb85cdf1677",
   "metadata": {},
   "source": [
    "# Exercise 37"
   ]
  },
  {
   "cell_type": "code",
   "execution_count": 124,
   "id": "ecf8d4ef-71a1-4c2d-b3b4-af0ca9a1eca9",
   "metadata": {},
   "outputs": [],
   "source": [
    "import string\n",
    "def remove_punctuation(filename):\n",
    "    with open(filename, \"r\") as f:\n",
    "        text = f.read()\n",
    "    return text.translate(str.maketrans(\"\", \"\", string.punctuation))"
   ]
  },
  {
   "cell_type": "markdown",
   "id": "c35153d6-8780-4b99-a4ba-577df633c647",
   "metadata": {},
   "source": [
    "# Exercise 38"
   ]
  },
  {
   "cell_type": "code",
   "execution_count": 125,
   "id": "25e3d021-b05b-4316-a268-4bc43c4dcdc4",
   "metadata": {},
   "outputs": [],
   "source": [
    "def write_list_to_file(filename, lines):\n",
    "    with open(filename, \"w\") as f:\n",
    "        for line in lines:\n",
    "            f.write(line + \"\\n\")"
   ]
  },
  {
   "cell_type": "markdown",
   "id": "bcb5bed2-f39f-4dbf-b1cd-941e8420cecd",
   "metadata": {},
   "source": [
    "# Exercise 39"
   ]
  },
  {
   "cell_type": "code",
   "execution_count": 159,
   "id": "d89c1640-505f-4012-a562-e95244180f04",
   "metadata": {},
   "outputs": [
    {
     "name": "stdout",
     "output_type": "stream",
     "text": [
      "Number of lines starting with 'O': 1\n"
     ]
    }
   ],
   "source": [
    "def count_lines_starting_with_letter(file_name, letter):\n",
    "    count = 0\n",
    "    with open(file_name, 'r') as file:\n",
    "        for line in file:\n",
    "            if line.strip().startswith(letter):\n",
    "                count += 1\n",
    "    print(f\"Number of lines starting with '{letter}': {count}\")\n",
    "\n",
    "count_lines_starting_with_letter(\"data/book.txt\", \"O\")"
   ]
  },
  {
   "cell_type": "markdown",
   "id": "8be78e66-1f05-4eb0-9bb5-f9c11da98d95",
   "metadata": {},
   "source": [
    "# Exercise 40"
   ]
  },
  {
   "cell_type": "code",
   "execution_count": null,
   "id": "594e598b-584c-4274-be20-f975b9fb3c9f",
   "metadata": {},
   "outputs": [],
   "source": [
    "def write_reversed_to_file(text):\n",
    "    reversed_text = text[::-1]\n",
    "    with open(\"data/output.txt\", \"w\") as file:\n",
    "        file.write(reversed_text)\n",
    "\n",
    "    with open(\"data/output.txt\", \"r\") as f:\n",
    "        print(f.read())\n",
    "\n",
    "# Example :\n",
    "write_reversed_to_file(\"Hello, World!\")"
   ]
  },
  {
   "cell_type": "markdown",
   "id": "56f1c1f2-a88f-4480-a883-5c2823327fff",
   "metadata": {},
   "source": [
    "# Exercise 41"
   ]
  },
  {
   "cell_type": "code",
   "execution_count": null,
   "id": "9bb0376c-72eb-41ca-8f3b-3373dfd8b10e",
   "metadata": {},
   "outputs": [],
   "source": []
  },
  {
   "cell_type": "markdown",
   "id": "0398f3e3-34b8-44de-9b5e-40767d472220",
   "metadata": {},
   "source": [
    "# Exercise 42"
   ]
  },
  {
   "cell_type": "code",
   "execution_count": null,
   "id": "40ee946c-dbaf-4b82-8368-2c60e6e898de",
   "metadata": {},
   "outputs": [],
   "source": []
  },
  {
   "cell_type": "markdown",
   "id": "56b15a1d-5bd9-42de-b190-64682b3209b7",
   "metadata": {},
   "source": [
    "# Exercise 43"
   ]
  },
  {
   "cell_type": "code",
   "execution_count": null,
   "id": "53296ba8-d0c0-4370-92e0-494e84093072",
   "metadata": {},
   "outputs": [],
   "source": []
  },
  {
   "cell_type": "markdown",
   "id": "92b20d56-5c53-4ef5-8ddd-250a2907cc80",
   "metadata": {},
   "source": [
    "# Exercise 44"
   ]
  },
  {
   "cell_type": "code",
   "execution_count": null,
   "id": "b504010f-f491-484a-9c84-1220456382ab",
   "metadata": {},
   "outputs": [],
   "source": []
  },
  {
   "cell_type": "markdown",
   "id": "feb08328-a177-4be7-8ce9-300f441d5f09",
   "metadata": {},
   "source": [
    "# Exercise 45"
   ]
  },
  {
   "cell_type": "code",
   "execution_count": null,
   "id": "d11662f4-4101-410f-82b7-1020653aaeff",
   "metadata": {},
   "outputs": [],
   "source": []
  },
  {
   "cell_type": "markdown",
   "id": "42638b03-749c-4f78-9f81-eda3a27bd958",
   "metadata": {},
   "source": [
    "# Exercise 46"
   ]
  },
  {
   "cell_type": "code",
   "execution_count": null,
   "id": "601911ba-b68c-407f-87ce-867f7e4fc694",
   "metadata": {},
   "outputs": [],
   "source": []
  },
  {
   "cell_type": "markdown",
   "id": "9ccef71c-3e3d-4568-a8e9-f80e037924b8",
   "metadata": {},
   "source": [
    "# Exercise 47"
   ]
  },
  {
   "cell_type": "code",
   "execution_count": null,
   "id": "fcc47a81-38df-4df9-87e7-7605096a52f3",
   "metadata": {},
   "outputs": [],
   "source": []
  },
  {
   "cell_type": "markdown",
   "id": "95f0b5a4-b4ae-4041-87b5-e3087646b29f",
   "metadata": {},
   "source": [
    "# Exercise 48"
   ]
  },
  {
   "cell_type": "code",
   "execution_count": null,
   "id": "47e33c63-e8a8-4a47-9d94-f68b3d740de1",
   "metadata": {},
   "outputs": [],
   "source": []
  },
  {
   "cell_type": "markdown",
   "id": "c1207345-117d-4ccf-82be-d0ed50bca22d",
   "metadata": {},
   "source": [
    "# Exercise 49"
   ]
  },
  {
   "cell_type": "code",
   "execution_count": null,
   "id": "27a05ca7-67a4-42b9-a2b4-b75d51d9e72a",
   "metadata": {},
   "outputs": [],
   "source": []
  },
  {
   "cell_type": "markdown",
   "id": "dd8f0c3c-8d7b-4385-902f-dfa41871adaa",
   "metadata": {},
   "source": [
    "# Exercise 50"
   ]
  },
  {
   "cell_type": "code",
   "execution_count": null,
   "id": "3a3ff836-d4d4-4604-9abd-4d671d3e763c",
   "metadata": {},
   "outputs": [],
   "source": []
  },
  {
   "cell_type": "markdown",
   "id": "4a3f92ed-cd38-429e-ac00-71c32fe97a97",
   "metadata": {},
   "source": [
    "# Exercise 1"
   ]
  },
  {
   "cell_type": "code",
   "execution_count": null,
   "id": "a84c9c5d-229e-4ce9-bd71-7743e513b821",
   "metadata": {},
   "outputs": [],
   "source": []
  }
 ],
 "metadata": {
  "kernelspec": {
   "display_name": "Python 3 (ipykernel)",
   "language": "python",
   "name": "python3"
  },
  "language_info": {
   "codemirror_mode": {
    "name": "ipython",
    "version": 3
   },
   "file_extension": ".py",
   "mimetype": "text/x-python",
   "name": "python",
   "nbconvert_exporter": "python",
   "pygments_lexer": "ipython3",
   "version": "3.11.7"
  }
 },
 "nbformat": 4,
 "nbformat_minor": 5
}
