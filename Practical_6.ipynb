{
 "cells": [
  {
   "cell_type": "markdown",
   "id": "bd6f6199",
   "metadata": {},
   "source": [
    "# Practical_6: Numpy"
   ]
  },
  {
   "cell_type": "markdown",
   "id": "de325ed6",
   "metadata": {},
   "source": [
    "---\n",
    "\n",
    "### Exercise 1:\n",
    "Create a NumPy array of integers from 1 to 10.\n"
   ]
  },
  {
   "cell_type": "code",
   "execution_count": 2,
   "id": "9b904697",
   "metadata": {},
   "outputs": [
    {
     "name": "stdout",
     "output_type": "stream",
     "text": [
      "[ 1  2  3  4  5  6  7  8  9 10]\n"
     ]
    }
   ],
   "source": [
    "# Exercise 1\n",
    "import numpy as np\n",
    "arr = np.arange(1,11)\n",
    "print(arr)"
   ]
  },
  {
   "cell_type": "markdown",
   "id": "745710c7",
   "metadata": {},
   "source": [
    "\n",
    "---\n",
    "\n",
    "### Exercise 2:\n",
    "Create a 3x3 NumPy array filled with zeros.\n"
   ]
  },
  {
   "cell_type": "code",
   "execution_count": 3,
   "id": "875235f1",
   "metadata": {},
   "outputs": [
    {
     "name": "stdout",
     "output_type": "stream",
     "text": [
      "[[0. 0. 0.]\n",
      " [0. 0. 0.]\n",
      " [0. 0. 0.]]\n"
     ]
    }
   ],
   "source": [
    "# Exercise 2\n",
    "arr_z = np.zeros((3,3))\n",
    "print(arr_z)\n"
   ]
  },
  {
   "cell_type": "markdown",
   "id": "a542ea80",
   "metadata": {},
   "source": [
    "\n",
    "---\n",
    "\n",
    "### Exercise 3:\n",
    "Create a NumPy array of 10 evenly spaced numbers between 0 and 5.\n"
   ]
  },
  {
   "cell_type": "code",
   "execution_count": 4,
   "id": "97c6ba4a",
   "metadata": {},
   "outputs": [
    {
     "name": "stdout",
     "output_type": "stream",
     "text": [
      "[0 0 1 1 2 2 3 3 4 5]\n"
     ]
    }
   ],
   "source": [
    "# Exercise 3\n",
    "x = np.linspace(0,5,10).astype(int)\n",
    "print(x)"
   ]
  },
  {
   "cell_type": "markdown",
   "id": "e92d80cc",
   "metadata": {},
   "source": [
    "\n",
    "---\n",
    "\n",
    "### Exercise 4:\n",
    "Create a 5x5 identity matrix using NumPy.\n"
   ]
  },
  {
   "cell_type": "code",
   "execution_count": 5,
   "id": "c5213bd2",
   "metadata": {
    "scrolled": true
   },
   "outputs": [
    {
     "data": {
      "text/plain": [
       "array([[1., 0., 0., 0., 0.],\n",
       "       [0., 1., 0., 0., 0.],\n",
       "       [0., 0., 1., 0., 0.],\n",
       "       [0., 0., 0., 1., 0.],\n",
       "       [0., 0., 0., 0., 1.]])"
      ]
     },
     "execution_count": 5,
     "metadata": {},
     "output_type": "execute_result"
    }
   ],
   "source": [
    "# Exercise 4\n",
    "y = np.identity(5)\n",
    "y"
   ]
  },
  {
   "cell_type": "markdown",
   "id": "a16f88e7",
   "metadata": {},
   "source": [
    "\n",
    "---\n",
    "\n",
    "### Exercise 5:\n",
    "Create a 4x4 matrix with random values between 0 and 1.\n"
   ]
  },
  {
   "cell_type": "code",
   "execution_count": 6,
   "id": "2b16922b",
   "metadata": {},
   "outputs": [
    {
     "data": {
      "text/plain": [
       "array([[0, 0, 0, 0],\n",
       "       [0, 0, 0, 0],\n",
       "       [0, 0, 0, 0],\n",
       "       [0, 0, 0, 0]])"
      ]
     },
     "execution_count": 6,
     "metadata": {},
     "output_type": "execute_result"
    }
   ],
   "source": [
    "# Exercise 5\n",
    "rand = np.random.randint(1,size = (4,4))\n",
    "rand"
   ]
  },
  {
   "cell_type": "markdown",
   "id": "cc9af8fd",
   "metadata": {},
   "source": [
    "\n",
    "---\n",
    "\n",
    "### Exercise 6:\n",
    "Find the shape of a NumPy array.\n"
   ]
  },
  {
   "cell_type": "code",
   "execution_count": 7,
   "id": "359864d2",
   "metadata": {},
   "outputs": [
    {
     "data": {
      "text/plain": [
       "(10,)"
      ]
     },
     "execution_count": 7,
     "metadata": {},
     "output_type": "execute_result"
    }
   ],
   "source": [
    "# Exercise 6\n",
    "arr.shape"
   ]
  },
  {
   "cell_type": "markdown",
   "id": "ada0aff6",
   "metadata": {},
   "source": [
    "\n",
    "---\n",
    "\n",
    "### Exercise 7:\n",
    "Reshape a 1D NumPy array of 16 elements into a 4x4 matrix.\n"
   ]
  },
  {
   "cell_type": "code",
   "execution_count": 8,
   "id": "43fcb4b3",
   "metadata": {},
   "outputs": [
    {
     "data": {
      "text/plain": [
       "array([[ 0,  1,  2,  3],\n",
       "       [ 4,  5,  6,  7],\n",
       "       [ 8,  9, 10, 11],\n",
       "       [12, 13, 14, 15]])"
      ]
     },
     "execution_count": 8,
     "metadata": {},
     "output_type": "execute_result"
    }
   ],
   "source": [
    "# Exercise 7\n",
    "arr_ = np.arange(0,16).reshape((4,4))\n",
    "arr_"
   ]
  },
  {
   "cell_type": "markdown",
   "id": "d384142a",
   "metadata": {},
   "source": [
    "\n",
    "---\n",
    "\n",
    "### Exercise 8:\n",
    "Find the data type of the elements in a NumPy array.\n"
   ]
  },
  {
   "cell_type": "code",
   "execution_count": 9,
   "id": "bf4dca5a",
   "metadata": {},
   "outputs": [
    {
     "data": {
      "text/plain": [
       "dtype('int32')"
      ]
     },
     "execution_count": 9,
     "metadata": {},
     "output_type": "execute_result"
    }
   ],
   "source": [
    "# Exercise 8\n",
    "arr_.dtype"
   ]
  },
  {
   "cell_type": "markdown",
   "id": "c295ca54",
   "metadata": {},
   "source": [
    "\n",
    "---\n",
    "\n",
    "### Exercise 9:\n",
    "Create a NumPy array of integers from 1 to 100 and find all even numbers in the array.\n"
   ]
  },
  {
   "cell_type": "code",
   "execution_count": 158,
   "id": "28a61c5e",
   "metadata": {},
   "outputs": [
    {
     "name": "stdout",
     "output_type": "stream",
     "text": [
      "Even numbers from 1 to 100:\n",
      "[  2   4   6   8  10  12  14  16  18  20  22  24  26  28  30  32  34  36\n",
      "  38  40  42  44  46  48  50  52  54  56  58  60  62  64  66  68  70  72\n",
      "  74  76  78  80  82  84  86  88  90  92  94  96  98 100]\n"
     ]
    }
   ],
   "source": [
    "# Exercise 9\n",
    "arr = np.arange(1, 101)\n",
    "even_numbers = arr[arr % 2 == 0]\n",
    "\n",
    "print(\"Even numbers from 1 to 100:\")\n",
    "print(even_numbers)\n"
   ]
  },
  {
   "cell_type": "markdown",
   "id": "72103956",
   "metadata": {},
   "source": [
    "\n",
    "---\n",
    "\n",
    "### Exercise 10:\n",
    "Generate a 6x6 matrix of random integers between 10 and 50.\n"
   ]
  },
  {
   "cell_type": "code",
   "execution_count": 11,
   "id": "ce04300e",
   "metadata": {},
   "outputs": [
    {
     "data": {
      "text/plain": [
       "array([[13, 24, 22, 19, 37, 41],\n",
       "       [21, 25, 38, 37, 28, 14],\n",
       "       [17, 27, 44, 28, 25, 33],\n",
       "       [33, 48, 33, 11, 28, 22],\n",
       "       [12, 48, 35, 12, 49, 12],\n",
       "       [16, 40, 34, 49, 40, 22]])"
      ]
     },
     "execution_count": 11,
     "metadata": {},
     "output_type": "execute_result"
    }
   ],
   "source": [
    "# Exercise 10\n",
    "a = np.random.randint(10,50,size = (6,6))\n",
    "a"
   ]
  },
  {
   "cell_type": "markdown",
   "id": "3dd1a085",
   "metadata": {},
   "source": [
    "\n",
    "---\n",
    "\n",
    "### Exercise 11:\n",
    "Slice a 2D NumPy array to extract a submatrix.\n"
   ]
  },
  {
   "cell_type": "code",
   "execution_count": 12,
   "id": "b8fc90ba",
   "metadata": {},
   "outputs": [],
   "source": [
    "# Exercise 11"
   ]
  },
  {
   "cell_type": "markdown",
   "id": "73a4344c",
   "metadata": {},
   "source": [
    "\n",
    "---\n",
    "\n",
    "### Exercise 12:\n",
    "Calculate the sum of all elements in a NumPy array.\n"
   ]
  },
  {
   "cell_type": "code",
   "execution_count": 78,
   "id": "3c417ff3",
   "metadata": {},
   "outputs": [
    {
     "data": {
      "text/plain": [
       "array([[ 1,  3,  5],\n",
       "       [ 7,  9, 11]])"
      ]
     },
     "execution_count": 78,
     "metadata": {},
     "output_type": "execute_result"
    }
   ],
   "source": [
    "# Exercise 12\n",
    "m = np.arange(6).reshape((2,3))\n",
    "n = np.arange(1,7).reshape((2,3))\n",
    "sum = np.add(m,n)\n",
    "sum"
   ]
  },
  {
   "cell_type": "markdown",
   "id": "c2346362",
   "metadata": {},
   "source": [
    "\n",
    "---\n",
    "\n",
    "### Exercise 13:\n",
    "Calculate the mean, median, and standard deviation of a NumPy array.\n"
   ]
  },
  {
   "cell_type": "code",
   "execution_count": 82,
   "id": "95e57182",
   "metadata": {},
   "outputs": [
    {
     "name": "stdout",
     "output_type": "stream",
     "text": [
      "mean:2.5, median:2.5, standard deviation: 1.707825127659933\n"
     ]
    }
   ],
   "source": [
    "# Exercise 13\n",
    "mn = np.mean(m)\n",
    "md = np.median(m)\n",
    "std = np.std(m)\n",
    "print(f\"mean:{mn}, median:{md}, standard deviation: {std}\")"
   ]
  },
  {
   "cell_type": "markdown",
   "id": "67a4fdbd",
   "metadata": {},
   "source": [
    "\n",
    "---\n",
    "\n",
    "### Exercise 14:\n",
    "Find the maximum and minimum values in a NumPy array.\n"
   ]
  },
  {
   "cell_type": "code",
   "execution_count": 84,
   "id": "7959c765",
   "metadata": {},
   "outputs": [
    {
     "name": "stdout",
     "output_type": "stream",
     "text": [
      "minimum:0, maximum:5\n"
     ]
    }
   ],
   "source": [
    "# Exercise 14\n",
    "mini = np.min(m)\n",
    "maxi = np.max(m)\n",
    "print(f\"minimum:{mini}, maximum:{maxi}\")"
   ]
  },
  {
   "cell_type": "markdown",
   "id": "8a705cd1",
   "metadata": {},
   "source": [
    "\n",
    "---\n",
    "\n",
    "### Exercise 15:\n",
    "Create a NumPy array of 20 random integers and find the index of the maximum value.\n"
   ]
  },
  {
   "cell_type": "code",
   "execution_count": 89,
   "id": "c6748d73",
   "metadata": {},
   "outputs": [
    {
     "name": "stdout",
     "output_type": "stream",
     "text": [
      "[67 44 52 75 13 59 63  6 84 83 19 79 65 12 72 85 12 25 81 13]\n"
     ]
    },
    {
     "data": {
      "text/plain": [
       "15"
      ]
     },
     "execution_count": 89,
     "metadata": {},
     "output_type": "execute_result"
    }
   ],
   "source": [
    "# Exercise 15\n",
    "value = np.random.randint(1,100,20)\n",
    "max_index = np.argmax(value)\n",
    "print(value)\n",
    "max_index"
   ]
  },
  {
   "cell_type": "markdown",
   "id": "467ca6ac",
   "metadata": {},
   "source": [
    "\n",
    "---\n",
    "\n",
    "### Exercise 16:\n",
    "Create a NumPy array and reverse its elements.\n"
   ]
  },
  {
   "cell_type": "code",
   "execution_count": 95,
   "id": "0a178eb6",
   "metadata": {},
   "outputs": [
    {
     "data": {
      "text/plain": [
       "array([13, 81, 25, 12, 85, 72, 12, 65, 79, 19, 83, 84,  6, 63, 59, 13, 75,\n",
       "       52, 44, 67])"
      ]
     },
     "execution_count": 95,
     "metadata": {},
     "output_type": "execute_result"
    }
   ],
   "source": [
    "# Exercise 16\n",
    "# my_array = np.array([1, 2, 3, 4, 5])\n",
    "reverse_value = value[::-1]\n",
    "reverse_value"
   ]
  },
  {
   "cell_type": "markdown",
   "id": "b7d8ec92",
   "metadata": {},
   "source": [
    "\n",
    "---\n",
    "\n",
    "### Exercise 17:\n",
    "Create a 3x3 matrix and multiply it element-wise by another 3x3 matrix.\n"
   ]
  },
  {
   "cell_type": "code",
   "execution_count": 98,
   "id": "847ddc05",
   "metadata": {},
   "outputs": [
    {
     "name": "stdout",
     "output_type": "stream",
     "text": [
      "[[1 2 3]\n",
      " [4 5 6]\n",
      " [7 8 9]]\n",
      "[[11 12 13]\n",
      " [14 15 16]\n",
      " [17 18 19]]\n",
      "[[ 11  24  39]\n",
      " [ 56  75  96]\n",
      " [119 144 171]]\n"
     ]
    }
   ],
   "source": [
    "# Exercise 17\n",
    "matrix1 = np.arange(1,10).reshape((3,3))\n",
    "matrix2 = np.arange(11,20).reshape((3,3))\n",
    "result_matrix = np.multiply(matrix1, matrix2)\n",
    "print(matrix1)\n",
    "print(matrix2)\n",
    "print(result_matrix)"
   ]
  },
  {
   "cell_type": "markdown",
   "id": "58512446",
   "metadata": {},
   "source": [
    "\n",
    "---\n",
    "\n",
    "### Exercise 18:\n",
    "Create a diagonal matrix from a given 1D array.\n"
   ]
  },
  {
   "cell_type": "code",
   "execution_count": 100,
   "id": "bd7e9321",
   "metadata": {},
   "outputs": [
    {
     "data": {
      "text/plain": [
       "array([[1, 0, 0, 0, 0, 0, 0],\n",
       "       [0, 2, 0, 0, 0, 0, 0],\n",
       "       [0, 0, 3, 0, 0, 0, 0],\n",
       "       [0, 0, 0, 4, 0, 0, 0],\n",
       "       [0, 0, 0, 0, 5, 0, 0],\n",
       "       [0, 0, 0, 0, 0, 6, 0],\n",
       "       [0, 0, 0, 0, 0, 0, 7]])"
      ]
     },
     "execution_count": 100,
     "metadata": {},
     "output_type": "execute_result"
    }
   ],
   "source": [
    "# Exercise 18\n",
    "matri = np.array([1,2,3,4,5,6,7])\n",
    "d_matri = np.diag(matri)\n",
    "d_matri"
   ]
  },
  {
   "cell_type": "markdown",
   "id": "10be19e0",
   "metadata": {},
   "source": [
    "\n",
    "---\n",
    "\n",
    "### Exercise 19:\n",
    "Perform matrix multiplication on two 2D NumPy arrays.\n"
   ]
  },
  {
   "cell_type": "code",
   "execution_count": 101,
   "id": "c287973c",
   "metadata": {},
   "outputs": [
    {
     "name": "stdout",
     "output_type": "stream",
     "text": [
      "[[1 2 3]\n",
      " [4 5 6]]\n",
      "[[ 7  8  9]\n",
      " [10 11 12]]\n",
      "[[ 11  24  39]\n",
      " [ 56  75  96]\n",
      " [119 144 171]]\n"
     ]
    }
   ],
   "source": [
    "# Exercise 19\n",
    "matrix3 = np.array([[1,2,3],[4,5,6]])\n",
    "matrix4 = np.array([[7,8,9],[10,11,12]])\n",
    "resultmatrix = np.multiply(matrix1, matrix2)\n",
    "print(matrix3)\n",
    "print(matrix4)\n",
    "print(resultmatrix)"
   ]
  },
  {
   "cell_type": "markdown",
   "id": "932aa100",
   "metadata": {},
   "source": [
    "\n",
    "---\n",
    "\n",
    "### Exercise 20:\n",
    "Flatten a 2D NumPy array into a 1D array.\n"
   ]
  },
  {
   "cell_type": "code",
   "execution_count": 102,
   "id": "0b2a7505",
   "metadata": {},
   "outputs": [
    {
     "name": "stdout",
     "output_type": "stream",
     "text": [
      "[1 2 3 4 5 6]\n"
     ]
    }
   ],
   "source": [
    "# Exercise 20\n",
    "arr_2d = np.array([[1, 2, 3], [4, 5, 6]])\n",
    "arr_1d = arr_2d.flatten()\n",
    "print(arr_1d) "
   ]
  },
  {
   "cell_type": "markdown",
   "id": "43e4204e",
   "metadata": {},
   "source": [
    "\n",
    "---\n",
    "\n",
    "### Exercise 21:\n",
    "Stack two NumPy arrays vertically.\n"
   ]
  },
  {
   "cell_type": "code",
   "execution_count": 103,
   "id": "2fab6ed6",
   "metadata": {},
   "outputs": [
    {
     "name": "stdout",
     "output_type": "stream",
     "text": [
      "[[1 2 3]\n",
      " [4 5 6]]\n"
     ]
    }
   ],
   "source": [
    "# Exercise 21\n",
    "array1 = np.array([1, 2, 3])\n",
    "array2 = np.array([4, 5, 6])\n",
    "result = np.vstack((array1, array2))\n",
    "print(result)"
   ]
  },
  {
   "cell_type": "markdown",
   "id": "54a62aed",
   "metadata": {},
   "source": [
    "\n",
    "---\n",
    "\n",
    "### Exercise 22:\n",
    "Stack two NumPy arrays horizontally.\n"
   ]
  },
  {
   "cell_type": "code",
   "execution_count": 104,
   "id": "38c62fcb",
   "metadata": {},
   "outputs": [
    {
     "name": "stdout",
     "output_type": "stream",
     "text": [
      "[1 2 3 4 5 6]\n"
     ]
    }
   ],
   "source": [
    "# Exercise 22\n",
    "arr1 = np.array([1, 2, 3])\n",
    "arr2 = np.array([4, 5, 6])\n",
    "result_ = np.hstack((array1, array2))\n",
    "print(result_)"
   ]
  },
  {
   "cell_type": "markdown",
   "id": "348ee442",
   "metadata": {},
   "source": [
    "\n",
    "---\n",
    "\n",
    "### Exercise 23:\n",
    "Split a NumPy array into multiple sub-arrays.\n"
   ]
  },
  {
   "cell_type": "code",
   "execution_count": 107,
   "id": "bb591997",
   "metadata": {},
   "outputs": [
    {
     "name": "stdout",
     "output_type": "stream",
     "text": [
      "[array([1, 2]), array([3, 4]), array([5, 6]), array([7, 8])]\n"
     ]
    }
   ],
   "source": [
    "# Exercise 23\n",
    "arr = np.array([1, 2, 3, 4, 5, 6, 7,8])\n",
    "sub_arrays = np.array_split(arr, 4) \n",
    "print(sub_arrays)\n",
    "  "
   ]
  },
  {
   "cell_type": "markdown",
   "id": "b1f38f5f",
   "metadata": {},
   "source": [
    "\n",
    "---\n",
    "\n",
    "### Exercise 24:\n",
    "Generate a random NumPy array and round each element to two decimal places.\n"
   ]
  },
  {
   "cell_type": "code",
   "execution_count": 111,
   "id": "9627a34c",
   "metadata": {},
   "outputs": [
    {
     "name": "stdout",
     "output_type": "stream",
     "text": [
      "[[0.29 0.79 0.58 0.85]\n",
      " [0.42 0.07 0.89 0.9 ]\n",
      " [0.67 0.49 0.68 0.41]]\n"
     ]
    }
   ],
   "source": [
    "# Exercise 24\n",
    "random_array = np.random.rand(3, 4)\n",
    "rounded_array = np.round(random_array, 2)\n",
    "print(rounded_array)"
   ]
  },
  {
   "cell_type": "markdown",
   "id": "33eff49a",
   "metadata": {},
   "source": [
    "\n",
    "---\n",
    "\n",
    "### Exercise 25:\n",
    "Find the unique elements of a NumPy array.\n"
   ]
  },
  {
   "cell_type": "code",
   "execution_count": 112,
   "id": "820d6014",
   "metadata": {},
   "outputs": [
    {
     "name": "stdout",
     "output_type": "stream",
     "text": [
      "[1 2 3 4 5]\n"
     ]
    }
   ],
   "source": [
    "# Exercise 25\n",
    "arr = np.array([1, 2, 2, 3, 4, 4, 5])\n",
    "unique_elements = np.unique(arr)\n",
    "print(unique_elements) "
   ]
  },
  {
   "cell_type": "markdown",
   "id": "a82dfd26",
   "metadata": {},
   "source": [
    "\n",
    "---\n",
    "\n",
    "### Exercise 26:\n",
    "Replace all elements in a NumPy array that are less than a specific value with that value.\n"
   ]
  },
  {
   "cell_type": "code",
   "execution_count": 115,
   "id": "9317d8ff",
   "metadata": {},
   "outputs": [
    {
     "data": {
      "text/plain": [
       "array([ 3,  5,  3,  8,  3, 10,  3])"
      ]
     },
     "execution_count": 115,
     "metadata": {},
     "output_type": "execute_result"
    }
   ],
   "source": [
    "# Exercise 26\n",
    "new_arr = np.array([1, 5, 2, 8, -3, 10, 0])\n",
    "new_arr[new_arr < 3] = 3\n",
    "new_arr"
   ]
  },
  {
   "cell_type": "markdown",
   "id": "0b211e1c",
   "metadata": {},
   "source": [
    "\n",
    "---\n",
    "\n",
    "### Exercise 27:\n",
    "Find the cumulative sum of the elements in a NumPy array.\n"
   ]
  },
  {
   "cell_type": "code",
   "execution_count": 116,
   "id": "d03b7264",
   "metadata": {},
   "outputs": [
    {
     "name": "stdout",
     "output_type": "stream",
     "text": [
      "[ 1  3  6 10 15]\n"
     ]
    }
   ],
   "source": [
    "# Exercise 27\n",
    "arr = np.array([1, 2, 3, 4, 5])\n",
    "cumulative_sum_arr = np.cumsum(arr)\n",
    "print(cumulative_sum_arr) "
   ]
  },
  {
   "cell_type": "markdown",
   "id": "837642b7",
   "metadata": {},
   "source": [
    "\n",
    "---\n",
    "\n",
    "### Exercise 28:\n",
    "Create a NumPy array and find the number of non-zero elements in it.\n"
   ]
  },
  {
   "cell_type": "code",
   "execution_count": 119,
   "id": "fa2565c6",
   "metadata": {},
   "outputs": [
    {
     "name": "stdout",
     "output_type": "stream",
     "text": [
      "[[1 0 2]\n",
      " [0 3 0]\n",
      " [4 0 5]]\n",
      "\n",
      "Number of non-zero elements: 5\n"
     ]
    }
   ],
   "source": [
    "# Exercise 28\n",
    "arr = np.array([[1, 0, 2], [0, 3, 0], [4, 0, 5]])\n",
    "non_zero = np.count_nonzero(arr)\n",
    "print(arr)\n",
    "print(\"\\nNumber of non-zero elements:\", non_zero)"
   ]
  },
  {
   "cell_type": "markdown",
   "id": "7d1f3704",
   "metadata": {},
   "source": [
    "\n",
    "---\n",
    "\n",
    "### Exercise 29:\n",
    "Create a NumPy array of random integers and sort it in ascending order.\n"
   ]
  },
  {
   "cell_type": "code",
   "execution_count": 120,
   "id": "dfa23a6e",
   "metadata": {},
   "outputs": [
    {
     "name": "stdout",
     "output_type": "stream",
     "text": [
      "Original Array: [67 69 83 45  8 68 73 22 28 85]\n",
      "Sorted Array: [ 8 22 28 45 67 68 69 73 83 85]\n"
     ]
    }
   ],
   "source": [
    "# Exercise 29\n",
    "random_array = np.random.randint(0, 100, size=10)\n",
    "sorted_array = np.sort(random_array)\n",
    "print(\"Original Array:\", random_array)\n",
    "print(\"Sorted Array:\", sorted_array)"
   ]
  },
  {
   "cell_type": "markdown",
   "id": "295b7ea8",
   "metadata": {},
   "source": [
    "\n",
    "---\n",
    "\n",
    "### Exercise 30:\n",
    "Find the row-wise and column-wise sum of a 3x3 matrix.\n"
   ]
  },
  {
   "cell_type": "code",
   "execution_count": 121,
   "id": "963df701",
   "metadata": {},
   "outputs": [
    {
     "name": "stdout",
     "output_type": "stream",
     "text": [
      "Original Matrix:\n",
      "[[1 2 3]\n",
      " [4 5 6]\n",
      " [7 8 9]]\n",
      "\n",
      "Row-wise Sum: [ 6 15 24]\n",
      "Column-wise Sum: [12 15 18]\n"
     ]
    }
   ],
   "source": [
    "# Exercise 30\n",
    "matrix = np.array([[1, 2, 3],\n",
    "                   [4, 5, 6],\n",
    "                   [7, 8, 9]])\n",
    "\n",
    "row_sums = np.sum(matrix, axis=1)\n",
    "col_sums = np.sum(matrix, axis=0)\n",
    "\n",
    "print(\"Original Matrix:\")\n",
    "print(matrix)\n",
    "print(\"\\nRow-wise Sum:\", row_sums)\n",
    "print(\"Column-wise Sum:\", col_sums)"
   ]
  },
  {
   "cell_type": "markdown",
   "id": "158756fa",
   "metadata": {},
   "source": [
    "\n",
    "---\n",
    "\n",
    "### Exercise 31:\n",
    "Generate a 2D NumPy array with random values and normalize it (scale the values between 0 and 1).\n"
   ]
  },
  {
   "cell_type": "code",
   "execution_count": 122,
   "id": "32ba8b29",
   "metadata": {},
   "outputs": [
    {
     "name": "stdout",
     "output_type": "stream",
     "text": [
      "Original Array:\n",
      "[[0.77423217 0.58435966 0.92063663 0.07186837 0.69111312]\n",
      " [0.37348545 0.72140236 0.16565227 0.86540287 0.64865649]\n",
      " [0.88876243 0.16022985 0.0769431  0.17361313 0.52483069]\n",
      " [0.3562722  0.9049972  0.29164755 0.94733675 0.3190188 ]\n",
      " [0.06717012 0.42232425 0.39983375 0.60520517 0.94588374]]\n",
      "\n",
      "Normalized Array:\n",
      "[[0.80332749 0.58760413 0.9696647  0.00533791 0.70889192]\n",
      " [0.34801971 0.74330498 0.11189036 0.90691095 0.66065487]\n",
      " [0.93345088 0.10572967 0.01110356 0.12093507 0.51997037]\n",
      " [0.3284629  0.95189599 0.2550397  1.         0.28613751]\n",
      " [0.         0.40350783 0.37795529 0.61128772 0.99834917]]\n"
     ]
    }
   ],
   "source": [
    "# Exercise 31\n",
    "random_array = np.random.rand(5, 5)\n",
    "\n",
    "min_val = np.min(random_array)\n",
    "max_val = np.max(random_array)\n",
    "\n",
    "normalized_array = (random_array - min_val) / (max_val - min_val)\n",
    "\n",
    "print(\"Original Array:\")\n",
    "print(random_array)\n",
    "print(\"\\nNormalized Array:\")\n",
    "print(normalized_array)"
   ]
  },
  {
   "cell_type": "markdown",
   "id": "d3eeceaa",
   "metadata": {},
   "source": [
    "\n",
    "---\n",
    "\n",
    "### Exercise 32:\n",
    "Create two NumPy arrays and find the dot product.\n"
   ]
  },
  {
   "cell_type": "code",
   "execution_count": 125,
   "id": "5722e16b",
   "metadata": {},
   "outputs": [
    {
     "name": "stdout",
     "output_type": "stream",
     "text": [
      "32\n"
     ]
    }
   ],
   "source": [
    "# Exercise 32\n",
    "array1 = np.array([1, 2, 3])\n",
    "array2 = np.array([4, 5, 6])\n",
    "\n",
    "dot_product = np.dot(array1, array2)\n",
    "print(dot_product)"
   ]
  },
  {
   "cell_type": "markdown",
   "id": "5b0c848f",
   "metadata": {},
   "source": [
    "\n",
    "---\n",
    "\n",
    "### Exercise 33:\n",
    "Find the trace of a square NumPy matrix.\n"
   ]
  },
  {
   "cell_type": "code",
   "execution_count": 126,
   "id": "6d6e90c2",
   "metadata": {},
   "outputs": [
    {
     "name": "stdout",
     "output_type": "stream",
     "text": [
      "15\n"
     ]
    }
   ],
   "source": [
    "# Exercise 33\n",
    "matrix = np.array([[1, 2, 3],\n",
    "                   [4, 5, 6],\n",
    "                   [7, 8, 9]])\n",
    "\n",
    "trace = np.trace(matrix)\n",
    "print(trace) "
   ]
  },
  {
   "cell_type": "markdown",
   "id": "74f1f77e",
   "metadata": {},
   "source": [
    "\n",
    "---\n",
    "\n",
    "### Exercise 34:\n",
    "Create a 2D array and swap two rows.\n"
   ]
  },
  {
   "cell_type": "code",
   "execution_count": 127,
   "id": "24621129",
   "metadata": {},
   "outputs": [
    {
     "name": "stdout",
     "output_type": "stream",
     "text": [
      "Original array:\n",
      "[[1 2 3]\n",
      " [4 5 6]\n",
      " [7 8 9]]\n",
      "\n",
      "Array after swapping row 0 and row 2:\n",
      "[[7 8 9]\n",
      " [4 5 6]\n",
      " [1 2 3]]\n"
     ]
    }
   ],
   "source": [
    "# Exercise 34\n",
    "arr = np.array([[1, 2, 3], [4, 5, 6], [7, 8, 9]])\n",
    "print(\"Original array:\")\n",
    "print(arr)\n",
    "arr[[0, 2]] = arr[[2, 0]]\n",
    "print(\"\\nArray after swapping row 0 and row 2:\")\n",
    "print(arr)"
   ]
  },
  {
   "cell_type": "markdown",
   "id": "7875d348",
   "metadata": {},
   "source": [
    "\n",
    "---\n",
    "\n",
    "### Exercise 35:\n",
    "Create a 1D NumPy array and convert it into a column vector.\n"
   ]
  },
  {
   "cell_type": "code",
   "execution_count": 129,
   "id": "0039acda",
   "metadata": {},
   "outputs": [
    {
     "name": "stdout",
     "output_type": "stream",
     "text": [
      "1D Array:\n",
      "[1 2 3 4 5]\n",
      "\n",
      "Column Vector:\n",
      "[[1]\n",
      " [2]\n",
      " [3]\n",
      " [4]\n",
      " [5]]\n"
     ]
    }
   ],
   "source": [
    "# Exercise 35\n",
    "arr_1d = np.array([1, 2, 3, 4, 5])\n",
    "print(\"1D Array:\")\n",
    "print(arr_1d)\n",
    "\n",
    "col_vector = arr_1d.reshape(-1, 1)\n",
    "print(\"\\nColumn Vector:\")\n",
    "print(col_vector)"
   ]
  },
  {
   "cell_type": "markdown",
   "id": "234e605c",
   "metadata": {},
   "source": [
    "\n",
    "---\n",
    "\n",
    "### Exercise 36:\n",
    "Find the determinant of a 3x3 matrix.\n"
   ]
  },
  {
   "cell_type": "code",
   "execution_count": 130,
   "id": "9798d9c7",
   "metadata": {},
   "outputs": [
    {
     "name": "stdout",
     "output_type": "stream",
     "text": [
      "The determinant of the matrix is: 0.0\n"
     ]
    }
   ],
   "source": [
    "# Exercise 36\n",
    "matrix = np.array([[1, 2, 3],\n",
    "                   [4, 5, 6],\n",
    "                   [7, 8, 9]])\n",
    "\n",
    "determinant = np.linalg.det(matrix)\n",
    "print(f\"The determinant of the matrix is: {determinant}\")"
   ]
  },
  {
   "cell_type": "markdown",
   "id": "6656af00",
   "metadata": {},
   "source": [
    "\n",
    "---\n",
    "\n",
    "### Exercise 37:\n",
    "Find the eigenvalues and eigenvectors of a 2x2 matrix.\n"
   ]
  },
  {
   "cell_type": "code",
   "execution_count": 131,
   "id": "89d64421",
   "metadata": {},
   "outputs": [
    {
     "name": "stdout",
     "output_type": "stream",
     "text": [
      "Eigenvalues:\n",
      "[5. 2.]\n",
      "\n",
      "Eigenvectors:\n",
      "[[ 0.89442719 -0.70710678]\n",
      " [ 0.4472136   0.70710678]]\n"
     ]
    }
   ],
   "source": [
    "# Exercise 37\n",
    "A = np.array([[4, 2],\n",
    "              [1, 3]])\n",
    "\n",
    "eigenvalues, eigenvectors = np.linalg.eig(A)\n",
    "\n",
    "print(\"Eigenvalues:\")\n",
    "print(eigenvalues)\n",
    "\n",
    "print(\"\\nEigenvectors:\")\n",
    "print(eigenvectors)\n"
   ]
  },
  {
   "cell_type": "markdown",
   "id": "7dc92bbb",
   "metadata": {},
   "source": [
    "\n",
    "---\n",
    "\n",
    "### Exercise 38:\n",
    "Solve a system of linear equations using NumPy.\n"
   ]
  },
  {
   "cell_type": "code",
   "execution_count": 133,
   "id": "9aad2d7e",
   "metadata": {},
   "outputs": [
    {
     "name": "stdout",
     "output_type": "stream",
     "text": [
      "[-2.    2.25]\n"
     ]
    }
   ],
   "source": [
    "# Exercise 38\n",
    "A = np.array([[2, 4], [6, 8]])\n",
    "b = np.array([5, 6])\n",
    "x = np.linalg.solve(A, b)\n",
    "print(x)"
   ]
  },
  {
   "cell_type": "markdown",
   "id": "4f146ae7",
   "metadata": {},
   "source": [
    "\n",
    "---\n",
    "\n",
    "### Exercise 39:\n",
    "Add Gaussian noise to a NumPy array.\n"
   ]
  },
  {
   "cell_type": "code",
   "execution_count": 134,
   "id": "1162c82d",
   "metadata": {},
   "outputs": [
    {
     "name": "stdout",
     "output_type": "stream",
     "text": [
      "Original array: [1 2 3 4 5]\n",
      "Noisy array: [2.22983823 0.8813357  3.41361732 3.17072678 5.88201668]\n"
     ]
    }
   ],
   "source": [
    "# Exercise 39\n",
    "original_array = np.array([1, 2, 3, 4, 5])\n",
    "mean = 0\n",
    "std_dev = 1\n",
    "noise = np.random.normal(mean, std_dev, size=original_array.shape)\n",
    "noisy_array = original_array + noise\n",
    "\n",
    "print(\"Original array:\", original_array)\n",
    "print(\"Noisy array:\", noisy_array)"
   ]
  },
  {
   "cell_type": "markdown",
   "id": "24f6d12f",
   "metadata": {},
   "source": [
    "\n",
    "---\n",
    "\n",
    "### Exercise 40:\n",
    "Create a 4x4 matrix and extract the diagonal elements.\n"
   ]
  },
  {
   "cell_type": "code",
   "execution_count": 135,
   "id": "228d823c",
   "metadata": {},
   "outputs": [
    {
     "name": "stdout",
     "output_type": "stream",
     "text": [
      "Matrix:\n",
      "[[ 1  2  3  4]\n",
      " [ 5  6  7  8]\n",
      " [ 9 10 11 12]\n",
      " [13 14 15 16]]\n",
      "\n",
      "Diagonal elements:\n",
      "[ 1  6 11 16]\n"
     ]
    }
   ],
   "source": [
    "# Exercise 40\n",
    "matrix = np.array([[1, 2, 3, 4],\n",
    "                   [5, 6, 7, 8],\n",
    "                   [9, 10, 11, 12],\n",
    "                   [13, 14, 15, 16]])\n",
    "\n",
    "diagonal_elements = np.diag(matrix)\n",
    "\n",
    "print(\"Matrix:\")\n",
    "print(matrix)\n",
    "print(\"\\nDiagonal elements:\")\n",
    "print(diagonal_elements)"
   ]
  },
  {
   "cell_type": "markdown",
   "id": "6fe4e0e1",
   "metadata": {},
   "source": [
    "\n",
    "---\n",
    "\n",
    "### Exercise 41:\n",
    "Generate a NumPy array of 100 random values and clip the values to a range between 10 and 50.\n"
   ]
  },
  {
   "cell_type": "code",
   "execution_count": 136,
   "id": "250c818c",
   "metadata": {},
   "outputs": [
    {
     "name": "stdout",
     "output_type": "stream",
     "text": [
      "[29.65394249 20.54703137 27.81700749 24.78627202 15.69622608 39.65093533\n",
      " 16.01082025 13.76275821 20.02429892 36.92386767 29.34007763 31.85555038\n",
      " 34.93461518 18.12868707 26.42951231 46.00851516 19.06971438 10.86902729\n",
      " 20.24838759 16.78143839 15.23374472 32.75712638 40.89543857 41.57739043\n",
      " 19.73880476 37.05304799 37.80547412 20.88588451 17.78683026 13.75067878\n",
      " 18.16847599 39.53672761 26.9419665  49.70731283 12.06092597 31.64861467\n",
      " 15.51341382 46.54550621 34.09986125 37.92087798 28.23770729 26.31365245\n",
      " 42.74913719 33.19031747 40.52356587 37.23211113 49.43533647 31.52437397\n",
      " 45.50405439 13.18940738 12.51252242 27.3266862  27.29211313 22.21804547\n",
      " 40.081181   12.02916187 42.93908827 48.42555218 33.24571565 40.90032396\n",
      " 11.44300681 33.94351512 46.96678902 26.61356473 20.89702167 27.35005723\n",
      " 44.14640057 38.3054157  18.50499316 18.9482964  44.91601127 20.54989127\n",
      " 32.3237795  13.81603174 46.96140905 38.26129331 35.31888599 44.77206111\n",
      " 40.89608719 12.66106072 29.57344339 48.14437601 28.54700722 20.95525961\n",
      " 27.65662291 29.5233717  32.0736744  43.79694254 48.32072159 20.8507378\n",
      " 21.58549335 47.96682882 46.12833533 27.79641309 18.66750536 49.34459504\n",
      " 23.09272268 36.86104104 43.41891058 10.97746064]\n"
     ]
    }
   ],
   "source": [
    "# Exercise 41\n",
    "random_array = np.random.rand(100)\n",
    "scaled_array = random_array * 40 + 10\n",
    "\n",
    "clipped_array = np.clip(scaled_array, 10, 50)\n",
    "print(clipped_array)"
   ]
  },
  {
   "cell_type": "markdown",
   "id": "0aa4963a",
   "metadata": {},
   "source": [
    "\n",
    "---\n",
    "\n",
    "### Exercise 42:\n",
    "Create a 2D NumPy array and replace all negative values with zero.\n"
   ]
  },
  {
   "cell_type": "code",
   "execution_count": 137,
   "id": "c33cf5e2",
   "metadata": {},
   "outputs": [
    {
     "name": "stdout",
     "output_type": "stream",
     "text": [
      "[[1 0 3]\n",
      " [0 5 0]\n",
      " [7 0 9]]\n"
     ]
    }
   ],
   "source": [
    "# Exercise 42\n",
    "my_array = np.array([[1, -2, 3], [-4, 5, -6], [7, -8, 9]])\n",
    "my_array[my_array < 0] = 0\n",
    "\n",
    "print(my_array)"
   ]
  },
  {
   "cell_type": "markdown",
   "id": "9902ee70",
   "metadata": {},
   "source": [
    "\n",
    "---\n",
    "\n",
    "### Exercise 43:\n",
    "Find the inner and outer products of two NumPy arrays.\n"
   ]
  },
  {
   "cell_type": "code",
   "execution_count": 139,
   "id": "36f488c8",
   "metadata": {},
   "outputs": [
    {
     "name": "stdout",
     "output_type": "stream",
     "text": [
      "32\n",
      "[[ 4  5  6]\n",
      " [ 8 10 12]\n",
      " [12 15 18]]\n"
     ]
    }
   ],
   "source": [
    "# Exercise 43\n",
    "a = np.array([1, 2, 3])\n",
    "b = np.array([4, 5, 6])\n",
    "\n",
    "inner_product = np.inner(a, b)\n",
    "print(inner_product) \n",
    "outer_product = np.outer(a, b)\n",
    "print(outer_product)"
   ]
  },
  {
   "cell_type": "markdown",
   "id": "7dce9fa3",
   "metadata": {},
   "source": [
    "\n",
    "---\n",
    "\n",
    "### Exercise 44:\n",
    "Calculate the pairwise distances between points in a NumPy array.\n"
   ]
  },
  {
   "cell_type": "code",
   "execution_count": 141,
   "id": "94067655",
   "metadata": {},
   "outputs": [
    {
     "data": {
      "text/plain": [
       "array([[0.        , 0.67490273, 0.40943727, 0.7957396 ],\n",
       "       [0.67490273, 0.        , 0.63612977, 0.9577896 ],\n",
       "       [0.40943727, 0.63612977, 0.        , 0.41094904],\n",
       "       [0.7957396 , 0.9577896 , 0.41094904, 0.        ]])"
      ]
     },
     "execution_count": 141,
     "metadata": {},
     "output_type": "execute_result"
    }
   ],
   "source": [
    "# Exercise 44\n",
    "from scipy.spatial.distance import pdist, squareform\n",
    "points = np.random.rand(4, 2)\n",
    "dists = squareform(pdist(points))\n",
    "dists"
   ]
  },
  {
   "cell_type": "markdown",
   "id": "d4b272d3",
   "metadata": {},
   "source": [
    "\n",
    "---\n",
    "\n",
    "### Exercise 45:\n",
    "Create a structured NumPy array with fields for `name`, `age`, and `height`.\n"
   ]
  },
  {
   "cell_type": "code",
   "execution_count": 142,
   "id": "9b18e4f0",
   "metadata": {},
   "outputs": [
    {
     "name": "stdout",
     "output_type": "stream",
     "text": [
      "[('Alice', 25, 1.65) ('Bob', 30, 1.8 ) ('Charlie', 28, 1.75)]\n"
     ]
    }
   ],
   "source": [
    "# Exercise 45\n",
    "dt = np.dtype([('name', 'U10'), ('age', 'i4'), ('height', 'f8')])\n",
    "data = np.array([('Alice', 25, 1.65), ('Bob', 30, 1.80), ('Charlie', 28, 1.75)], dtype=dt)\n",
    "\n",
    "print(data)"
   ]
  },
  {
   "cell_type": "markdown",
   "id": "577f3e80",
   "metadata": {},
   "source": [
    "\n",
    "---\n",
    "\n",
    "### Exercise 46:\n",
    "Create a 5x5 matrix of random integers and count the occurrences of each unique value.\n"
   ]
  },
  {
   "cell_type": "code",
   "execution_count": 143,
   "id": "639b01fd",
   "metadata": {},
   "outputs": [
    {
     "name": "stdout",
     "output_type": "stream",
     "text": [
      "Matrix:\n",
      " [[9 6 1 2 2]\n",
      " [8 5 2 0 4]\n",
      " [1 1 1 6 8]\n",
      " [6 2 7 0 9]\n",
      " [3 7 2 5 4]]\n",
      "\n",
      "Unique values and their counts:\n",
      "0: 2\n",
      "1: 4\n",
      "2: 5\n",
      "3: 1\n",
      "4: 2\n",
      "5: 2\n",
      "6: 3\n",
      "7: 2\n",
      "8: 2\n",
      "9: 2\n"
     ]
    }
   ],
   "source": [
    "# Exercise 46\n",
    "matrix = np.random.randint(0, 10, size=(5, 5))\n",
    "unique_values, counts = np.unique(matrix, return_counts=True)\n",
    "print(\"Matrix:\\n\", matrix)\n",
    "print(\"\\nUnique values and their counts:\")\n",
    "for value, count in zip(unique_values, counts):\n",
    "    print(f\"{value}: {count}\")"
   ]
  },
  {
   "cell_type": "markdown",
   "id": "e716555f",
   "metadata": {},
   "source": [
    "\n",
    "---\n",
    "\n",
    "### Exercise 47:\n",
    "Generate a random 3x3 NumPy array and subtract the mean of each row from the corresponding row.\n"
   ]
  },
  {
   "cell_type": "code",
   "execution_count": 144,
   "id": "03747d27",
   "metadata": {},
   "outputs": [
    {
     "name": "stdout",
     "output_type": "stream",
     "text": [
      "Original array:\n",
      " [[0.66337115 0.41298312 0.88985223]\n",
      " [0.8137614  0.60020993 0.6069025 ]\n",
      " [0.60962643 0.33107574 0.08298839]]\n",
      "\n",
      "Array with row means subtracted:\n",
      " [[ 0.00796899 -0.24241905  0.23445006]\n",
      " [ 0.14013679 -0.07341468 -0.06672211]\n",
      " [ 0.26839624 -0.01015445 -0.2582418 ]]\n"
     ]
    }
   ],
   "source": [
    "# Exercise 47\n",
    "arr = np.random.rand(3, 3)\n",
    "row_means = np.mean(arr, axis=1, keepdims=True)\n",
    "result = arr - row_means\n",
    "\n",
    "print(\"Original array:\\n\", arr)\n",
    "print(\"\\nArray with row means subtracted:\\n\", result)"
   ]
  },
  {
   "cell_type": "markdown",
   "id": "89148fb1",
   "metadata": {},
   "source": [
    "\n",
    "---\n",
    "\n",
    "### Exercise 48:\n",
    "Create a NumPy array of random integers and check if any of the values are greater than 50.\n"
   ]
  },
  {
   "cell_type": "code",
   "execution_count": 145,
   "id": "d329ca63",
   "metadata": {},
   "outputs": [
    {
     "name": "stdout",
     "output_type": "stream",
     "text": [
      "Random Array: [90 59 93 32 74 35 13 47 22 75 58 82 52 35 27 55 61 95 54 33 57 81 96  8\n",
      " 26 21 74 71 70 54 75 47 19 74 44 23  0 18 14 94 93  6 93 43 15 86 84 74\n",
      " 37 26 79 73 83 81 43 88 31 22 90 72 65 12 74 24 63 69 49 27 89 90 41 77\n",
      "  4  9 48 38 99 14 50 58 21 16 76  4 65 61 69 19 39 85 61 23 10 73  4 15\n",
      " 52 32 94 65]\n",
      "Any values greater than 50: True\n"
     ]
    }
   ],
   "source": [
    "# Exercise 48\n",
    "random_array = np.random.randint(0, 101, 100)\n",
    "any_greater_than_50 = np.any(random_array > 50)\n",
    "\n",
    "print(\"Random Array:\", random_array)\n",
    "print(\"Any values greater than 50:\", any_greater_than_50)"
   ]
  },
  {
   "cell_type": "markdown",
   "id": "806622f5",
   "metadata": {},
   "source": [
    "\n",
    "---\n",
    "\n",
    "### Exercise 49:\n",
    "Calculate the moving average of a 1D NumPy array.\n"
   ]
  },
  {
   "cell_type": "code",
   "execution_count": 146,
   "id": "866232ff",
   "metadata": {},
   "outputs": [
    {
     "name": "stdout",
     "output_type": "stream",
     "text": [
      "Moving average:\n",
      "[2. 3. 4. 5. 6. 7. 8.]\n"
     ]
    }
   ],
   "source": [
    "# Exercise 49\n",
    "data = np.array([1, 2, 3, 4, 5, 6, 7, 8, 9])\n",
    "window_size = 3\n",
    "weights = np.ones(window_size) / window_size\n",
    "moving_avg = np.convolve(data, weights, mode='valid')\n",
    "\n",
    "print(\"Moving average:\")\n",
    "print(moving_avg)\n"
   ]
  },
  {
   "cell_type": "markdown",
   "id": "9313446b",
   "metadata": {},
   "source": [
    "\n",
    "---\n",
    "\n",
    "### Exercise 50:\n",
    "Find the Pearson correlation coefficient between two NumPy arrays.\n"
   ]
  },
  {
   "cell_type": "code",
   "execution_count": 147,
   "id": "09c184ab",
   "metadata": {},
   "outputs": [
    {
     "name": "stdout",
     "output_type": "stream",
     "text": [
      "0.7745966692414834\n"
     ]
    }
   ],
   "source": [
    "# Exercise 50\n",
    "array1 = np.array([1, 2, 3, 4, 5])\n",
    "array2 = np.array([2, 4, 5, 4, 5])\n",
    "\n",
    "correlation_matrix = np.corrcoef(array1, array2)\n",
    "pearson_coefficient = correlation_matrix[0, 1]\n",
    "\n",
    "print(pearson_coefficient)"
   ]
  },
  {
   "cell_type": "markdown",
   "id": "8ee11395",
   "metadata": {},
   "source": [
    "\n",
    "---\n",
    "\n",
    "### Exercise 51:\n",
    "Convert a NumPy array of radians to degrees.\n"
   ]
  },
  {
   "cell_type": "code",
   "execution_count": 148,
   "id": "34ac5b8c",
   "metadata": {},
   "outputs": [
    {
     "name": "stdout",
     "output_type": "stream",
     "text": [
      "Degrees:\n",
      "[  0.  30.  45.  90. 180.]\n"
     ]
    }
   ],
   "source": [
    "# Exercise 51\n",
    "radians = np.array([0, np.pi/6, np.pi/4, np.pi/2, np.pi])\n",
    "degrees = np.degrees(radians)\n",
    "\n",
    "print(\"Degrees:\")\n",
    "print(degrees)\n"
   ]
  },
  {
   "cell_type": "markdown",
   "id": "f4fd9563",
   "metadata": {},
   "source": [
    "\n",
    "---\n",
    "\n",
    "### Exercise 52:\n",
    "Create a random NumPy array and compute its variance and standard deviation.\n"
   ]
  },
  {
   "cell_type": "code",
   "execution_count": 152,
   "id": "0559791a",
   "metadata": {},
   "outputs": [
    {
     "name": "stdout",
     "output_type": "stream",
     "text": [
      "Array: [0 4 8 0 2]\n",
      "Variance: 8.959999999999999\n",
      "Standard Deviation: 2.993325909419153\n"
     ]
    }
   ],
   "source": [
    "# Exercise 52\n",
    "arr = np.random.randint(10, size = (5))\n",
    "variance = np.var(arr)\n",
    "std_dev = np.std(arr)\n",
    "\n",
    "print(\"Array:\", arr)\n",
    "print(\"Variance:\", variance)\n",
    "print(\"Standard Deviation:\", std_dev)\n"
   ]
  },
  {
   "cell_type": "markdown",
   "id": "b5bed93d",
   "metadata": {},
   "source": [
    "\n",
    "---\n",
    "\n",
    "### Exercise 53:\n",
    "Create a 2D NumPy array and find the indices of the maximum values along each axis.\n"
   ]
  },
  {
   "cell_type": "code",
   "execution_count": 153,
   "id": "37168529",
   "metadata": {},
   "outputs": [
    {
     "name": "stdout",
     "output_type": "stream",
     "text": [
      "Array:\n",
      "[[1 7 3 4]\n",
      " [8 2 5 1]\n",
      " [6 9 0 3]]\n",
      "\n",
      "Indices of max values along columns (axis=0): [1 2 1 0]\n",
      "Indices of max values along rows (axis=1): [1 0 1]\n"
     ]
    }
   ],
   "source": [
    "# Exercise 53\n",
    "arr = np.array([\n",
    "    [1, 7, 3, 4],\n",
    "    [8, 2, 5, 1],\n",
    "    [6, 9, 0, 3]\n",
    "])\n",
    "max_indices_col = np.argmax(arr, axis=0)\n",
    "max_indices_row = np.argmax(arr, axis=1)\n",
    "\n",
    "print(\"Array:\")\n",
    "print(arr)\n",
    "\n",
    "print(\"\\nIndices of max values along columns (axis=0):\", max_indices_col)\n",
    "print(\"Indices of max values along rows (axis=1):\", max_indices_row)\n"
   ]
  },
  {
   "cell_type": "markdown",
   "id": "fd672293",
   "metadata": {},
   "source": [
    "\n",
    "---\n",
    "\n",
    "### Exercise 54:\n",
    "Compute the inverse of a 2x2 NumPy matrix.\n"
   ]
  },
  {
   "cell_type": "code",
   "execution_count": 154,
   "id": "d9eebfee",
   "metadata": {},
   "outputs": [
    {
     "name": "stdout",
     "output_type": "stream",
     "text": [
      "Inverse of the matrix:\n",
      "[[ 0.6 -0.7]\n",
      " [-0.2  0.4]]\n"
     ]
    }
   ],
   "source": [
    "# Exercise 54\n",
    "A = np.array([[4, 7],\n",
    "              [2, 6]])\n",
    "\n",
    "A_inv = np.linalg.inv(A)\n",
    "\n",
    "print(\"Inverse of the matrix:\")\n",
    "print(A_inv)\n"
   ]
  },
  {
   "cell_type": "markdown",
   "id": "d635d87b",
   "metadata": {},
   "source": [
    "\n",
    "---\n",
    "\n",
    "### Exercise 55:\n",
    "Create a NumPy array of 10 random values and standardize it (mean 0, variance 1).\n"
   ]
  },
  {
   "cell_type": "code",
   "execution_count": 155,
   "id": "dc8ffa7d",
   "metadata": {},
   "outputs": [
    {
     "name": "stdout",
     "output_type": "stream",
     "text": [
      "Original: [0.55801301 0.68616638 0.42706411 0.13562096 0.40893662 0.06732834\n",
      " 0.24851477 0.58435449 0.52749187 0.89745657]\n",
      "Standardized: [ 0.43163585  0.96393471 -0.11227453 -1.32281509 -0.18756901 -1.60647586\n",
      " -0.85389845  0.54104806  0.30486301  1.84155131]\n"
     ]
    }
   ],
   "source": [
    "# Exercise 55\n",
    "arr = np.random.rand(10)       \n",
    "standardized = (arr - np.mean(arr)) / np.std(arr)\n",
    "\n",
    "print(\"Original:\", arr)\n",
    "print(\"Standardized:\", standardized)\n"
   ]
  },
  {
   "cell_type": "markdown",
   "id": "6db1e281",
   "metadata": {},
   "source": [
    "\n",
    "---\n",
    "\n",
    "### Exercise 56:\n",
    "Perform element-wise addition and subtraction on two NumPy arrays.\n"
   ]
  },
  {
   "cell_type": "code",
   "execution_count": 156,
   "id": "e8d4d852",
   "metadata": {},
   "outputs": [
    {
     "name": "stdout",
     "output_type": "stream",
     "text": [
      "Addition: [5 7 9]\n",
      "Subtraction: [-3 -3 -3]\n"
     ]
    }
   ],
   "source": [
    "# Exercise 56\n",
    "a = np.array([1, 2, 3])\n",
    "b = np.array([4, 5, 6])\n",
    "\n",
    "addition = a + b\n",
    "subtraction = a - b\n",
    "\n",
    "print(\"Addition:\", addition)\n",
    "print(\"Subtraction:\", subtraction)\n"
   ]
  },
  {
   "cell_type": "markdown",
   "id": "843ba956",
   "metadata": {},
   "source": [
    "\n",
    "---\n",
    "\n",
    "### Exercise 57:\n",
    "Create a NumPy array of random values and find the maximum element's index.\n"
   ]
  },
  {
   "cell_type": "code",
   "execution_count": 58,
   "id": "e4cbc318",
   "metadata": {},
   "outputs": [],
   "source": [
    "# Exercise 57\n",
    "arr = np.random.rand(10)\n",
    "max_index = np.argmax(arr)\n",
    "\n",
    "print(\"Array:\", arr)\n",
    "print(\"Index of max element:\", max_index)\n"
   ]
  },
  {
   "cell_type": "markdown",
   "id": "e8356250",
   "metadata": {},
   "source": [
    "\n",
    "---\n",
    "\n",
    "### Exercise 58:\n",
    "Create a 3x3 NumPy array and rotate it by 90 degrees.\n"
   ]
  },
  {
   "cell_type": "code",
   "execution_count": 59,
   "id": "f80c6616",
   "metadata": {},
   "outputs": [],
   "source": [
    "# Exercise 58\n",
    "arr = np.array([[1, 2, 3],\n",
    "                [4, 5, 6],\n",
    "                [7, 8, 9]])\n",
    "\n",
    "rotated = np.rot90(arr)\n",
    "\n",
    "print(\"Original:\")\n",
    "print(arr)\n",
    "\n",
    "print(\"\\nRotated 90 degrees:\")\n",
    "print(rotated)\n"
   ]
  },
  {
   "cell_type": "markdown",
   "id": "5bdbf96d",
   "metadata": {},
   "source": [
    "\n",
    "---\n",
    "\n",
    "### Exercise 59:\n",
    "Compute the Frobenius norm of a matrix.\n"
   ]
  },
  {
   "cell_type": "code",
   "execution_count": 60,
   "id": "bb81b41a",
   "metadata": {},
   "outputs": [],
   "source": [
    "# Exercise 59\n",
    "matrix = np.array([[1, 2],\n",
    "                   [3, 4]])\n",
    "\n",
    "fro_norm = np.linalg.norm(matrix, 'fro')\n",
    "\n",
    "print(\"Frobenius norm:\", fro_norm)\n"
   ]
  },
  {
   "cell_type": "markdown",
   "id": "9388b0db",
   "metadata": {},
   "source": [
    "\n",
    "---\n",
    "\n",
    "### Exercise 60:\n",
    "Create a 3D NumPy array and slice out a subarray.\n"
   ]
  },
  {
   "cell_type": "code",
   "execution_count": 157,
   "id": "f051d3a2",
   "metadata": {},
   "outputs": [
    {
     "name": "stdout",
     "output_type": "stream",
     "text": [
      "Original shape: (3, 4, 5)\n",
      "Sliced subarray:\n",
      " [[0 5 4]\n",
      " [4 6 4]]\n"
     ]
    }
   ],
   "source": [
    "# Exercise 60\n",
    "arr = np.random.randint(0, 10, size=(3, 4, 5))  \n",
    "subarray = arr[0, 1:3, 2:5] \n",
    "\n",
    "print(\"Original shape:\", arr.shape)\n",
    "print(\"Sliced subarray:\\n\", subarray)\n"
   ]
  },
  {
   "cell_type": "markdown",
   "id": "9cb79001",
   "metadata": {},
   "source": [
    "\n",
    "---"
   ]
  }
 ],
 "metadata": {
  "kernelspec": {
   "display_name": "Python 3 (ipykernel)",
   "language": "python",
   "name": "python3"
  },
  "language_info": {
   "codemirror_mode": {
    "name": "ipython",
    "version": 3
   },
   "file_extension": ".py",
   "mimetype": "text/x-python",
   "name": "python",
   "nbconvert_exporter": "python",
   "pygments_lexer": "ipython3",
   "version": "3.11.7"
  }
 },
 "nbformat": 4,
 "nbformat_minor": 5
}
